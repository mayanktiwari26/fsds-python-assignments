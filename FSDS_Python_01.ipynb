{
  "nbformat": 4,
  "nbformat_minor": 0,
  "metadata": {
    "colab": {
      "name": "FSDS_Python_01.ipynb",
      "provenance": [],
      "collapsed_sections": []
    },
    "kernelspec": {
      "name": "python3",
      "display_name": "Python 3"
    },
    "language_info": {
      "name": "python"
    }
  },
  "cells": [
    {
      "cell_type": "code",
      "metadata": {
        "colab": {
          "base_uri": "https://localhost:8080/"
        },
        "id": "JlDxqLxDMclq",
        "outputId": "1ea9efd9-41a4-4b56-91f3-0252e6fa3d10"
      },
      "source": [
        "print(\"My first python \")"
      ],
      "execution_count": 2,
      "outputs": [
        {
          "output_type": "stream",
          "text": [
            "My first python \n"
          ],
          "name": "stdout"
        }
      ]
    },
    {
      "cell_type": "code",
      "metadata": {
        "colab": {
          "base_uri": "https://localhost:8080/"
        },
        "id": "N1AoA9vlR2Vr",
        "outputId": "15d66872-01e3-47db-dfca-f4b0559c99e3"
      },
      "source": [
        "for i in range(0,5):\n",
        "  print (\"Hi \" )"
      ],
      "execution_count": 3,
      "outputs": [
        {
          "output_type": "stream",
          "text": [
            "Hi \n",
            "Hi \n",
            "Hi \n",
            "Hi \n",
            "Hi \n"
          ],
          "name": "stdout"
        }
      ]
    },
    {
      "cell_type": "code",
      "metadata": {
        "id": "cwcLkx4_S0AM",
        "colab": {
          "base_uri": "https://localhost:8080/"
        },
        "outputId": "0ff668b8-d3a3-4a12-c2a7-ec103a5133e0"
      },
      "source": [
        "# using .format()\n",
        "\n",
        "print(\"my name is {a} and i am {b} years old\".format(a=\"mayank\", b=28))"
      ],
      "execution_count": 4,
      "outputs": [
        {
          "output_type": "stream",
          "text": [
            "my name is mayank and i am 28 years old\n"
          ],
          "name": "stdout"
        }
      ]
    },
    {
      "cell_type": "code",
      "metadata": {
        "id": "ZkJVAIpatHAZ"
      },
      "source": [
        "#using string methods\n",
        "\n",
        "str1 = 'what a \"joke\" '\n",
        "str2 = \"amazing\"\n",
        "str3 = \"\"\" this is what we call a multiline string \n",
        "as it contains 3(\") and multi lines\n",
        "also we can do multiple operations on it\"\"\"\n"
      ],
      "execution_count": 5,
      "outputs": []
    },
    {
      "cell_type": "code",
      "metadata": {
        "colab": {
          "base_uri": "https://localhost:8080/"
        },
        "id": "Qy8zIuqwvJJY",
        "outputId": "e5dd51ed-1a52-4a6e-df3c-2450a8aa3816"
      },
      "source": [
        "print(str1)"
      ],
      "execution_count": 6,
      "outputs": [
        {
          "output_type": "stream",
          "text": [
            "what a \"joke\" \n"
          ],
          "name": "stdout"
        }
      ]
    },
    {
      "cell_type": "code",
      "metadata": {
        "colab": {
          "base_uri": "https://localhost:8080/",
          "height": 35
        },
        "id": "MdwtvBWwvP5_",
        "outputId": "c6438bd1-dc4a-42a5-eb4e-099adf4efcaa"
      },
      "source": [
        "#slicing strings\n",
        "\n",
        "str1[-1:2] # negative indexing doesn't work in this case, because here default step size(1)\n",
        "\n",
        "\n",
        "str1[-1:-5:-1]   #in this case it will work"
      ],
      "execution_count": 10,
      "outputs": [
        {
          "output_type": "execute_result",
          "data": {
            "application/vnd.google.colaboratory.intrinsic+json": {
              "type": "string"
            },
            "text/plain": [
              "' \"ek'"
            ]
          },
          "metadata": {
            "tags": []
          },
          "execution_count": 10
        }
      ]
    },
    {
      "cell_type": "code",
      "metadata": {
        "colab": {
          "base_uri": "https://localhost:8080/",
          "height": 35
        },
        "id": "AkCGOjQCv8bq",
        "outputId": "50aae1f2-2c82-4f13-f481-f951fbe72629"
      },
      "source": [
        "str1.upper()"
      ],
      "execution_count": null,
      "outputs": [
        {
          "output_type": "execute_result",
          "data": {
            "application/vnd.google.colaboratory.intrinsic+json": {
              "type": "string"
            },
            "text/plain": [
              "'WHAT A \"JOKE\" '"
            ]
          },
          "metadata": {
            "tags": []
          },
          "execution_count": 6
        }
      ]
    },
    {
      "cell_type": "code",
      "metadata": {
        "colab": {
          "base_uri": "https://localhost:8080/",
          "height": 35
        },
        "id": "7hXqAnxnxALD",
        "outputId": "0743099b-8016-40e3-aab3-de534135d454"
      },
      "source": [
        "str1.strip()   #only leading and trailing white spaces removed"
      ],
      "execution_count": null,
      "outputs": [
        {
          "output_type": "execute_result",
          "data": {
            "application/vnd.google.colaboratory.intrinsic+json": {
              "type": "string"
            },
            "text/plain": [
              "'what a \"joke\"'"
            ]
          },
          "metadata": {
            "tags": []
          },
          "execution_count": 7
        }
      ]
    },
    {
      "cell_type": "code",
      "metadata": {
        "colab": {
          "base_uri": "https://localhost:8080/"
        },
        "id": "IoeBb__rxEKf",
        "outputId": "f9433aaf-5067-4f73-ab25-908c2edd985b"
      },
      "source": [
        "str1.startswith(\"W\")"
      ],
      "execution_count": null,
      "outputs": [
        {
          "output_type": "execute_result",
          "data": {
            "text/plain": [
              "False"
            ]
          },
          "metadata": {
            "tags": []
          },
          "execution_count": 8
        }
      ]
    },
    {
      "cell_type": "code",
      "metadata": {
        "colab": {
          "base_uri": "https://localhost:8080/",
          "height": 35
        },
        "id": "jBB2o0Wyxkfm",
        "outputId": "5dbe703f-59a0-4ee2-9e62-a4adc97d3725"
      },
      "source": [
        "str1.replace(\"a\", \"o\", 1)"
      ],
      "execution_count": null,
      "outputs": [
        {
          "output_type": "execute_result",
          "data": {
            "application/vnd.google.colaboratory.intrinsic+json": {
              "type": "string"
            },
            "text/plain": [
              "'whot a \"joke\" '"
            ]
          },
          "metadata": {
            "tags": []
          },
          "execution_count": 9
        }
      ]
    },
    {
      "cell_type": "code",
      "metadata": {
        "colab": {
          "base_uri": "https://localhost:8080/"
        },
        "id": "Nyu2Baltx4b-",
        "outputId": "2daa516d-ca14-49dc-a59c-2638e676d7b9"
      },
      "source": [
        "str3.splitlines(keepends=True)"
      ],
      "execution_count": null,
      "outputs": [
        {
          "output_type": "execute_result",
          "data": {
            "text/plain": [
              "[' this is what we call a multiline string \\n',\n",
              " 'as it contains 3(\") and multi lines\\n',\n",
              " 'also we can do multiple operations on it']"
            ]
          },
          "metadata": {
            "tags": []
          },
          "execution_count": 10
        }
      ]
    },
    {
      "cell_type": "code",
      "metadata": {
        "colab": {
          "base_uri": "https://localhost:8080/"
        },
        "id": "Za_HArKdyVB_",
        "outputId": "2f2dd7d3-e319-4c86-e7db-087118e74e8c"
      },
      "source": [
        "s =str1 +str2\n",
        "print(s)"
      ],
      "execution_count": null,
      "outputs": [
        {
          "output_type": "stream",
          "text": [
            "what a \"joke\" amazing\n"
          ],
          "name": "stdout"
        }
      ]
    },
    {
      "cell_type": "code",
      "metadata": {
        "colab": {
          "base_uri": "https://localhost:8080/"
        },
        "id": "tORO6pxxyviG",
        "outputId": "53855a40-9831-4872-ef8c-ae4fa1aab79d"
      },
      "source": [
        "#splitting string\n",
        "s.split(\" \")"
      ],
      "execution_count": null,
      "outputs": [
        {
          "output_type": "execute_result",
          "data": {
            "text/plain": [
              "['what', 'a', '\"joke\"', 'amazing']"
            ]
          },
          "metadata": {
            "tags": []
          },
          "execution_count": 12
        }
      ]
    },
    {
      "cell_type": "code",
      "metadata": {
        "colab": {
          "base_uri": "https://localhost:8080/",
          "height": 35
        },
        "id": "6H3GXBJQy7gT",
        "outputId": "4672c9bf-8828-4312-9cd9-67a0b238fac8"
      },
      "source": [
        "r = \"1234\"\n",
        "s.zfill(29)"
      ],
      "execution_count": null,
      "outputs": [
        {
          "output_type": "execute_result",
          "data": {
            "application/vnd.google.colaboratory.intrinsic+json": {
              "type": "string"
            },
            "text/plain": [
              "'00000000what a \"joke\" amazing'"
            ]
          },
          "metadata": {
            "tags": []
          },
          "execution_count": 24
        }
      ]
    },
    {
      "cell_type": "code",
      "metadata": {
        "colab": {
          "base_uri": "https://localhost:8080/"
        },
        "id": "3eUIlSiafUpj",
        "outputId": "5bfacd8b-e1fd-4c49-f33f-00bf5ab2b926"
      },
      "source": [
        "print(r)"
      ],
      "execution_count": null,
      "outputs": [
        {
          "output_type": "stream",
          "text": [
            "1234\n"
          ],
          "name": "stdout"
        }
      ]
    },
    {
      "cell_type": "code",
      "metadata": {
        "id": "ernQGn30ffOe"
      },
      "source": [
        "l1= [\"a\", \"b\",1,2,True, [\"abc\",123]]"
      ],
      "execution_count": 67,
      "outputs": []
    },
    {
      "cell_type": "code",
      "metadata": {
        "colab": {
          "base_uri": "https://localhost:8080/"
        },
        "id": "M7MWpq6Yhdrf",
        "outputId": "842e8ea9-7651-4595-80e7-5e8c7e2e90fa"
      },
      "source": [
        "type(l1)"
      ],
      "execution_count": 68,
      "outputs": [
        {
          "output_type": "execute_result",
          "data": {
            "text/plain": [
              "list"
            ]
          },
          "metadata": {
            "tags": []
          },
          "execution_count": 68
        }
      ]
    },
    {
      "cell_type": "code",
      "metadata": {
        "id": "atCN-w4EiEoC"
      },
      "source": [
        "l2= list((\"what\", 22, 2.0))"
      ],
      "execution_count": 69,
      "outputs": []
    },
    {
      "cell_type": "code",
      "metadata": {
        "id": "xg3HCMjUiNQz"
      },
      "source": [
        "l3 = l1 + l2"
      ],
      "execution_count": 70,
      "outputs": []
    },
    {
      "cell_type": "code",
      "metadata": {
        "colab": {
          "base_uri": "https://localhost:8080/"
        },
        "id": "0Syj-u1BiV-c",
        "outputId": "1cbb98da-4a03-48aa-9aa5-37862829444c"
      },
      "source": [
        "l3"
      ],
      "execution_count": 99,
      "outputs": [
        {
          "output_type": "execute_result",
          "data": {
            "text/plain": [
              "['a',\n",
              " 'b',\n",
              " 1,\n",
              " 2,\n",
              " True,\n",
              " ['abc', 123],\n",
              " 'what',\n",
              " 22,\n",
              " 2.0,\n",
              " False,\n",
              " 11,\n",
              " 'b',\n",
              " 1,\n",
              " 'add',\n",
              " 2,\n",
              " ['abc', 123],\n",
              " 11,\n",
              " 'b',\n",
              " 1,\n",
              " 'add',\n",
              " 2,\n",
              " ['abc', 123],\n",
              " 11,\n",
              " 'b',\n",
              " 1,\n",
              " 'add',\n",
              " 2,\n",
              " ['abc', 123],\n",
              " 11,\n",
              " 'b',\n",
              " 1,\n",
              " 'add',\n",
              " 2,\n",
              " ['abc', 123],\n",
              " 11,\n",
              " 'b',\n",
              " 1,\n",
              " 'add',\n",
              " 2,\n",
              " ['abc', 123],\n",
              " 11,\n",
              " 'b',\n",
              " 1,\n",
              " 'add',\n",
              " 2,\n",
              " ['abc', 123],\n",
              " 11,\n",
              " 'b',\n",
              " 1,\n",
              " 'add',\n",
              " 2,\n",
              " ['abc', 123],\n",
              " 11,\n",
              " 'b',\n",
              " 1,\n",
              " 'add',\n",
              " 2,\n",
              " ['abc', 123],\n",
              " 11,\n",
              " 'b',\n",
              " 1,\n",
              " 'add',\n",
              " 2,\n",
              " ['abc', 123],\n",
              " 11,\n",
              " 'b',\n",
              " 1,\n",
              " 'add',\n",
              " 2,\n",
              " ['abc', 123],\n",
              " 11,\n",
              " 'b',\n",
              " 1,\n",
              " 'add',\n",
              " 2,\n",
              " ['abc', 123],\n",
              " 11,\n",
              " 'b',\n",
              " 1,\n",
              " 'add',\n",
              " 2,\n",
              " ['abc', 123],\n",
              " 11,\n",
              " 'b',\n",
              " 1,\n",
              " 'add',\n",
              " 2,\n",
              " ['abc', 123]]"
            ]
          },
          "metadata": {
            "tags": []
          },
          "execution_count": 99
        }
      ]
    },
    {
      "cell_type": "code",
      "metadata": {
        "id": "NGv9vUnMiXvi"
      },
      "source": [
        "l3.append(False)"
      ],
      "execution_count": 72,
      "outputs": []
    },
    {
      "cell_type": "code",
      "metadata": {
        "colab": {
          "base_uri": "https://localhost:8080/"
        },
        "id": "Ppa6-2-wie0I",
        "outputId": "869cb90c-a38f-4dbc-b3bb-c59348bb1069"
      },
      "source": [
        "l3.count(1)  # will count True as 1"
      ],
      "execution_count": 73,
      "outputs": [
        {
          "output_type": "execute_result",
          "data": {
            "text/plain": [
              "2"
            ]
          },
          "metadata": {
            "tags": []
          },
          "execution_count": 73
        }
      ]
    },
    {
      "cell_type": "code",
      "metadata": {
        "colab": {
          "base_uri": "https://localhost:8080/"
        },
        "id": "MethO0nyilBJ",
        "outputId": "da931d74-c873-4475-e9b5-5840610e6c5a"
      },
      "source": [
        "l3.count(22)"
      ],
      "execution_count": 74,
      "outputs": [
        {
          "output_type": "execute_result",
          "data": {
            "text/plain": [
              "1"
            ]
          },
          "metadata": {
            "tags": []
          },
          "execution_count": 74
        }
      ]
    },
    {
      "cell_type": "code",
      "metadata": {
        "colab": {
          "base_uri": "https://localhost:8080/"
        },
        "id": "ylGsG8cGjGOD",
        "outputId": "2acfc264-e078-4bcb-e930-4449eda81081"
      },
      "source": [
        "#accessing itmes of list\n",
        "\n",
        "l3[-1:5]"
      ],
      "execution_count": 75,
      "outputs": [
        {
          "output_type": "execute_result",
          "data": {
            "text/plain": [
              "[]"
            ]
          },
          "metadata": {
            "tags": []
          },
          "execution_count": 75
        }
      ]
    },
    {
      "cell_type": "code",
      "metadata": {
        "colab": {
          "base_uri": "https://localhost:8080/"
        },
        "id": "Y0cHjFVNjY4B",
        "outputId": "e54b3862-cd04-4561-d1e9-beea43c5c09f"
      },
      "source": [
        "if 22 in l3:\n",
        "  print(\"yes\")\n",
        "else:\n",
        "  print(\"no\")"
      ],
      "execution_count": 76,
      "outputs": [
        {
          "output_type": "stream",
          "text": [
            "yes\n"
          ],
          "name": "stdout"
        }
      ]
    },
    {
      "cell_type": "code",
      "metadata": {
        "id": "Dp_RoqYWj0RE"
      },
      "source": [
        "l1[0]= 11"
      ],
      "execution_count": 77,
      "outputs": []
    },
    {
      "cell_type": "code",
      "metadata": {
        "colab": {
          "base_uri": "https://localhost:8080/"
        },
        "id": "U3wv4YJhj8sG",
        "outputId": "4ff846e8-0c33-43d7-c797-dda817bcca86"
      },
      "source": [
        "print(l1)"
      ],
      "execution_count": 78,
      "outputs": [
        {
          "output_type": "stream",
          "text": [
            "[11, 'b', 1, 2, True, ['abc', 123]]\n"
          ],
          "name": "stdout"
        }
      ]
    },
    {
      "cell_type": "code",
      "metadata": {
        "colab": {
          "base_uri": "https://localhost:8080/"
        },
        "id": "vj7QbV0NkAhj",
        "outputId": "958b85aa-ca08-432c-a7b7-6c9d2d655240"
      },
      "source": [
        "l3"
      ],
      "execution_count": 79,
      "outputs": [
        {
          "output_type": "execute_result",
          "data": {
            "text/plain": [
              "['a', 'b', 1, 2, True, ['abc', 123], 'what', 22, 2.0, False]"
            ]
          },
          "metadata": {
            "tags": []
          },
          "execution_count": 79
        }
      ]
    },
    {
      "cell_type": "code",
      "metadata": {
        "id": "FSwiFgStkDim"
      },
      "source": [
        "l1[3:5] = [2]"
      ],
      "execution_count": 80,
      "outputs": []
    },
    {
      "cell_type": "code",
      "metadata": {
        "colab": {
          "base_uri": "https://localhost:8080/"
        },
        "id": "g2NZcI8KkUYO",
        "outputId": "2f89c52c-7e72-45b5-ca29-233b7f75d377"
      },
      "source": [
        "l1"
      ],
      "execution_count": 81,
      "outputs": [
        {
          "output_type": "execute_result",
          "data": {
            "text/plain": [
              "[11, 'b', 1, 2, ['abc', 123]]"
            ]
          },
          "metadata": {
            "tags": []
          },
          "execution_count": 81
        }
      ]
    },
    {
      "cell_type": "code",
      "metadata": {
        "id": "_sTaCVPfkV-0"
      },
      "source": [
        "l1.insert(3, \"add\")"
      ],
      "execution_count": 82,
      "outputs": []
    },
    {
      "cell_type": "code",
      "metadata": {
        "colab": {
          "base_uri": "https://localhost:8080/"
        },
        "id": "flIHjG2RlTAz",
        "outputId": "aedae70f-ad60-45c0-e152-da8da31853a7"
      },
      "source": [
        "l1"
      ],
      "execution_count": 83,
      "outputs": [
        {
          "output_type": "execute_result",
          "data": {
            "text/plain": [
              "[11, 'b', 1, 'add', 2, ['abc', 123]]"
            ]
          },
          "metadata": {
            "tags": []
          },
          "execution_count": 83
        }
      ]
    },
    {
      "cell_type": "code",
      "metadata": {
        "id": "CyLjSwkplUeA",
        "colab": {
          "base_uri": "https://localhost:8080/"
        },
        "outputId": "3d03e7a7-7b60-41b3-cbee-07ba91173842"
      },
      "source": [
        "l = []\n",
        "l3.extend(l1)  #this doesn't work\n",
        "l.extend(l3)  #this way we can perform the above task\n",
        "\n",
        "print(l)"
      ],
      "execution_count": 100,
      "outputs": [
        {
          "output_type": "stream",
          "text": [
            "['a', 'b', 1, 2, True, ['abc', 123], 'what', 22, 2.0, False, 11, 'b', 1, 'add', 2, ['abc', 123], 11, 'b', 1, 'add', 2, ['abc', 123], 11, 'b', 1, 'add', 2, ['abc', 123], 11, 'b', 1, 'add', 2, ['abc', 123], 11, 'b', 1, 'add', 2, ['abc', 123], 11, 'b', 1, 'add', 2, ['abc', 123], 11, 'b', 1, 'add', 2, ['abc', 123], 11, 'b', 1, 'add', 2, ['abc', 123], 11, 'b', 1, 'add', 2, ['abc', 123], 11, 'b', 1, 'add', 2, ['abc', 123], 11, 'b', 1, 'add', 2, ['abc', 123], 11, 'b', 1, 'add', 2, ['abc', 123], 11, 'b', 1, 'add', 2, ['abc', 123], 11, 'b', 1, 'add', 2, ['abc', 123]]\n"
          ],
          "name": "stdout"
        }
      ]
    },
    {
      "cell_type": "code",
      "metadata": {
        "id": "GhRTOjIjloNn"
      },
      "source": [
        "l4= [1,2,\"abc\"]"
      ],
      "execution_count": null,
      "outputs": []
    },
    {
      "cell_type": "code",
      "metadata": {
        "id": "SwvPDuhilpm4"
      },
      "source": [
        "l=l4"
      ],
      "execution_count": null,
      "outputs": []
    },
    {
      "cell_type": "code",
      "metadata": {
        "colab": {
          "base_uri": "https://localhost:8080/"
        },
        "id": "-CexO8AarI9f",
        "outputId": "13c6564d-0136-4602-a3dd-de42a0310ae0"
      },
      "source": [
        "print(l)"
      ],
      "execution_count": null,
      "outputs": [
        {
          "output_type": "stream",
          "text": [
            "[1, 2, 'abc']\n"
          ],
          "name": "stdout"
        }
      ]
    },
    {
      "cell_type": "code",
      "metadata": {
        "colab": {
          "base_uri": "https://localhost:8080/",
          "height": 35
        },
        "id": "SuOHUzxyrMRY",
        "outputId": "c77dd575-acc6-42f3-909b-c517fdaf992a"
      },
      "source": [
        "\"a\"+\"b\""
      ],
      "execution_count": null,
      "outputs": [
        {
          "output_type": "execute_result",
          "data": {
            "application/vnd.google.colaboratory.intrinsic+json": {
              "type": "string"
            },
            "text/plain": [
              "'ab'"
            ]
          },
          "metadata": {
            "tags": []
          },
          "execution_count": 1
        }
      ]
    },
    {
      "cell_type": "code",
      "metadata": {
        "colab": {
          "base_uri": "https://localhost:8080/"
        },
        "id": "kNCIJKWyrPgX",
        "outputId": "2f9dfb0f-b22a-4471-a090-788e2f554781"
      },
      "source": [
        "a=int( input(\"input 1st numbers \"))   #input function gives output as string\n",
        "b= int(input(\"input 2nd number \"))\n",
        "c= int(input(\"input 3rd number \"))"
      ],
      "execution_count": null,
      "outputs": [
        {
          "output_type": "stream",
          "text": [
            "input 1st numbers 11\n",
            "input 2nd number 22\n",
            "input 3rd number 12\n"
          ],
          "name": "stdout"
        }
      ]
    },
    {
      "cell_type": "code",
      "metadata": {
        "id": "Da8kOqYTJmGg"
      },
      "source": [
        "o = (a+b)/c"
      ],
      "execution_count": null,
      "outputs": []
    },
    {
      "cell_type": "code",
      "metadata": {
        "id": "c-rMm6c1LZXK"
      },
      "source": [
        "o1 = o + (2+3j)"
      ],
      "execution_count": null,
      "outputs": []
    },
    {
      "cell_type": "code",
      "metadata": {
        "id": "ZBJjUV3hMO9h"
      },
      "source": [
        "n= str(o1) + \"mayank\""
      ],
      "execution_count": null,
      "outputs": []
    },
    {
      "cell_type": "code",
      "metadata": {
        "colab": {
          "base_uri": "https://localhost:8080/"
        },
        "id": "E7UFHKj6MbVJ",
        "outputId": "bfbae665-5fd9-43af-9b46-ae7cab6f2772"
      },
      "source": [
        "print(n)"
      ],
      "execution_count": null,
      "outputs": [
        {
          "output_type": "stream",
          "text": [
            "(4.75+3j)mayank\n"
          ],
          "name": "stdout"
        }
      ]
    },
    {
      "cell_type": "code",
      "metadata": {
        "colab": {
          "base_uri": "https://localhost:8080/"
        },
        "id": "zYLL4xvAMisf",
        "outputId": "fd44d3f7-7238-404e-86b0-79f0bc2960ee"
      },
      "source": [
        "#conditional statements\n",
        "\n",
        "# if else\n",
        "\n",
        "a = int(input(\"enter a number \"))"
      ],
      "execution_count": null,
      "outputs": [
        {
          "output_type": "stream",
          "text": [
            "enter a number 24\n"
          ],
          "name": "stdout"
        }
      ]
    },
    {
      "cell_type": "code",
      "metadata": {
        "colab": {
          "base_uri": "https://localhost:8080/"
        },
        "id": "ZwBwwZKsPC-1",
        "outputId": "324098f6-9f8b-4a26-e768-a4ec91d0a66f"
      },
      "source": [
        "if a<20 :\n",
        "  pass\n",
        "print(\"pass allowed the conditional statement \")\n",
        "\n"
      ],
      "execution_count": null,
      "outputs": [
        {
          "output_type": "stream",
          "text": [
            "pass allowed the conditional statement \n"
          ],
          "name": "stdout"
        }
      ]
    },
    {
      "cell_type": "code",
      "metadata": {
        "colab": {
          "base_uri": "https://localhost:8080/"
        },
        "id": "zPZbmP1hPlB8",
        "outputId": "2d529f1f-bb91-4459-e841-2d1377cd6ca8"
      },
      "source": [
        "a = int(input(\"enter a number \"))\n",
        "if a<20 :\n",
        "  print(\"number is less than 20\")\n",
        "else:\n",
        "  print(\"number is not less than 20\")"
      ],
      "execution_count": null,
      "outputs": [
        {
          "output_type": "stream",
          "text": [
            "enter a number 12\n",
            "number is less than 20\n"
          ],
          "name": "stdout"
        }
      ]
    },
    {
      "cell_type": "code",
      "metadata": {
        "colab": {
          "base_uri": "https://localhost:8080/"
        },
        "id": "rR83Zi-xQSt6",
        "outputId": "2b88cde3-97aa-4fd5-8b3b-42ccafc2519d"
      },
      "source": [
        "salary = int(input(\"enter ur salary \"))\n",
        "if salary>1000:\n",
        "  print(\"buy a car \")\n",
        "elif salary>500 and salary<1000:\n",
        "  print(\"buy a bike \")\n",
        "elif salary>300 and salary<500:\n",
        "  print(\"buy a cycle \")\n",
        "else: \n",
        "  print(\"saving\")"
      ],
      "execution_count": null,
      "outputs": [
        {
          "output_type": "stream",
          "text": [
            "enter ur salary 200\n",
            "saving\n"
          ],
          "name": "stdout"
        }
      ]
    },
    {
      "cell_type": "code",
      "metadata": {
        "id": "3kxDlWG9Rral"
      },
      "source": [
        "if True:     # if else condition output is boolean in the end ie: after checking the condition it gives either True or false\n",
        "  pass        #pass will allow the code to move forward without any action"
      ],
      "execution_count": null,
      "outputs": []
    },
    {
      "cell_type": "code",
      "metadata": {
        "colab": {
          "base_uri": "https://localhost:8080/"
        },
        "id": "xog02TysUhdg",
        "outputId": "71624bb9-6df9-4053-e457-ea974b302ce9"
      },
      "source": [
        "firstName= input(\"enter ur first name \")\n",
        "lastName= input(\"enter ur last name \")\n",
        "if firstName==\"Mak\" and lastName==\"tiw\":\n",
        "  print(\"correct\")\n",
        "else:\n",
        "  print(\"wrong\")"
      ],
      "execution_count": null,
      "outputs": [
        {
          "output_type": "stream",
          "text": [
            "enter ur first name djdjd\n",
            "enter ur last name ndnd\n",
            "wrong\n"
          ],
          "name": "stdout"
        }
      ]
    },
    {
      "cell_type": "code",
      "metadata": {
        "colab": {
          "base_uri": "https://localhost:8080/",
          "height": 131
        },
        "id": "oTotJAxKlEjo",
        "outputId": "cdaffee3-0491-486a-f29d-27501763aa88"
      },
      "source": [
        "#while loop\n",
        "\n",
        "initial_speed = 0\n",
        "final_speed = 10\n",
        "count = 0\n",
        "\n",
        "while initial_speed < final_speed:\n",
        "  print(\"while loop is running {}.format(\"initial_speed\") \")\n",
        "  initial_speed = initial_speed+1"
      ],
      "execution_count": null,
      "outputs": [
        {
          "output_type": "error",
          "ename": "SyntaxError",
          "evalue": "ignored",
          "traceback": [
            "\u001b[0;36m  File \u001b[0;32m\"<ipython-input-39-32273ed56bb0>\"\u001b[0;36m, line \u001b[0;32m8\u001b[0m\n\u001b[0;31m    print(\"while loop is running {}.format(\"initial_speed\") \")\u001b[0m\n\u001b[0m                                                        ^\u001b[0m\n\u001b[0;31mSyntaxError\u001b[0m\u001b[0;31m:\u001b[0m invalid syntax\n"
          ]
        }
      ]
    },
    {
      "cell_type": "code",
      "metadata": {
        "colab": {
          "base_uri": "https://localhost:8080/"
        },
        "id": "7W60QKzUlZZj",
        "outputId": "efe02776-1c58-4ee3-83f0-a56be8d1c21a"
      },
      "source": [
        "initial_speed = 0\n",
        "final_speed = 10\n",
        "count = 0\n",
        "\n",
        "while initial_speed < final_speed:\n",
        "  print(\"while loop is running {}\".format(count))\n",
        "  count = count+1\n",
        "  if count ==4:\n",
        "    break                     #to come out of a loop we can use break "
      ],
      "execution_count": null,
      "outputs": [
        {
          "output_type": "stream",
          "text": [
            "while loop is running 0\n",
            "while loop is running 1\n",
            "while loop is running 2\n",
            "while loop is running 3\n"
          ],
          "name": "stdout"
        }
      ]
    },
    {
      "cell_type": "code",
      "metadata": {
        "colab": {
          "base_uri": "https://localhost:8080/"
        },
        "id": "vRxzA7MSlqvX",
        "outputId": "25a052c9-3cb5-436f-9f25-42cac42380a3"
      },
      "source": [
        "#we can also use else with while\n",
        "\n",
        "notes = 5\n",
        "i =1\n",
        "while i < 5:\n",
        "  print(i)\n",
        "  i += 1\n",
        "else:\n",
        "  print(\"notes are over \")"
      ],
      "execution_count": null,
      "outputs": [
        {
          "output_type": "stream",
          "text": [
            "1\n",
            "2\n",
            "3\n",
            "4\n",
            "notes are over \n"
          ],
          "name": "stdout"
        }
      ]
    },
    {
      "cell_type": "code",
      "metadata": {
        "colab": {
          "base_uri": "https://localhost:8080/",
          "height": 35
        },
        "id": "N8XEexxadrtw",
        "outputId": "5685cc80-1acd-4046-d152-cdb42906df06"
      },
      "source": [
        "s= \"my name is mayank tiwari\"\n",
        "s[::-1]                           #last one is step size by default = 1"
      ],
      "execution_count": null,
      "outputs": [
        {
          "output_type": "execute_result",
          "data": {
            "application/vnd.google.colaboratory.intrinsic+json": {
              "type": "string"
            },
            "text/plain": [
              "'irawit knayam si eman ym'"
            ]
          },
          "metadata": {
            "tags": []
          },
          "execution_count": 18
        }
      ]
    },
    {
      "cell_type": "code",
      "metadata": {
        "colab": {
          "base_uri": "https://localhost:8080/"
        },
        "id": "4dkWfgKwgC62",
        "outputId": "7e64bf76-b2b1-45fe-bf04-3559eb251e73"
      },
      "source": [
        "\n",
        "for i in range (len(s)):\n",
        "  print(s[-i])"
      ],
      "execution_count": null,
      "outputs": [
        {
          "output_type": "stream",
          "text": [
            "m\n",
            "i\n",
            "r\n",
            "a\n",
            "w\n",
            "i\n",
            "t\n",
            " \n",
            "k\n",
            "n\n",
            "a\n",
            "y\n",
            "a\n",
            "m\n",
            " \n",
            "s\n",
            "i\n",
            " \n",
            "e\n",
            "m\n",
            "a\n",
            "n\n",
            " \n",
            "y\n"
          ],
          "name": "stdout"
        }
      ]
    },
    {
      "cell_type": "code",
      "metadata": {
        "colab": {
          "base_uri": "https://localhost:8080/"
        },
        "id": "Y1OYqIAZgF2K",
        "outputId": "f8c2c2a7-6536-47cc-b6d1-f34b920f94e2"
      },
      "source": [
        "# using else in for loop\n",
        "#using break and continue\n",
        "for i in s:\n",
        "  if i == \"n\":\n",
        "    continue                    #continue if the condition matches will send the control back to top skipping the rest loop for that particular run\n",
        "  print(i)\n",
        "else:                            # else in for loop only get executed after for loop finished\n",
        "  if i ==\"i\":\n",
        "    print(\"last word is i \")\n"
      ],
      "execution_count": null,
      "outputs": [
        {
          "output_type": "stream",
          "text": [
            "m\n",
            "y\n",
            " \n",
            "a\n",
            "m\n",
            "e\n",
            " \n",
            "i\n",
            "s\n",
            " \n",
            "m\n",
            "a\n",
            "y\n",
            "a\n",
            "k\n",
            " \n",
            "t\n",
            "i\n",
            "w\n",
            "a\n",
            "r\n",
            "i\n",
            "last word is i \n"
          ],
          "name": "stdout"
        }
      ]
    },
    {
      "cell_type": "code",
      "metadata": {
        "colab": {
          "base_uri": "https://localhost:8080/"
        },
        "id": "ldM3ZRo_o43O",
        "outputId": "79335d20-9169-4824-f2c0-e60215a228d2"
      },
      "source": [
        "for i in s:\n",
        "  if i == \"n\":\n",
        "    break                   #break will move the control out of the loop and skip whatever is left\n",
        "  print(i)\n",
        "else:                            # else in for loop only get executed after for loop finished\n",
        "  if i ==\"i\":\n",
        "    print(\"last word is i \")"
      ],
      "execution_count": null,
      "outputs": [
        {
          "output_type": "stream",
          "text": [
            "m\n",
            "y\n",
            " \n"
          ],
          "name": "stdout"
        }
      ]
    },
    {
      "cell_type": "code",
      "metadata": {
        "colab": {
          "base_uri": "https://localhost:8080/"
        },
        "id": "koNBoCvxum3n",
        "outputId": "5e462c22-38c8-4bbf-cf1e-b5d705b04bcb"
      },
      "source": [
        "#nested for loop\n",
        "\n",
        "for i in range(0,7):\n",
        "  print(i*\"+ \")"
      ],
      "execution_count": null,
      "outputs": [
        {
          "output_type": "stream",
          "text": [
            "\n",
            "+ \n",
            "+ + \n",
            "+ + + \n",
            "+ + + + \n",
            "+ + + + + \n",
            "+ + + + + + \n"
          ],
          "name": "stdout"
        }
      ]
    },
    {
      "cell_type": "code",
      "metadata": {
        "colab": {
          "base_uri": "https://localhost:8080/"
        },
        "id": "E6xrubR7vqYk",
        "outputId": "83b1412d-70ab-4a22-ccd8-b6afd8825b67"
      },
      "source": [
        "n=7\n",
        "for i in range(0,n):\n",
        "  print(i*\" \", end=\"\")\n",
        "  print((n-i)*\"* \")"
      ],
      "execution_count": null,
      "outputs": [
        {
          "output_type": "stream",
          "text": [
            "* * * * * * * \n",
            " * * * * * * \n",
            "  * * * * * \n",
            "   * * * * \n",
            "    * * * \n",
            "     * * \n",
            "      * \n"
          ],
          "name": "stdout"
        }
      ]
    },
    {
      "cell_type": "code",
      "metadata": {
        "colab": {
          "base_uri": "https://localhost:8080/"
        },
        "id": "hgmrImBYxr9x",
        "outputId": "9d47db97-ef9e-4c55-c2ae-d465368a2738"
      },
      "source": [
        "for i in range(0,8):\n",
        "  print(i*\" \", end=\"\")\n",
        "  for j in range(8-i):\n",
        "    print(\"* \" , end=\"\")\n",
        "  print()"
      ],
      "execution_count": null,
      "outputs": [
        {
          "output_type": "stream",
          "text": [
            "* * * * * * * * \n",
            " * * * * * * * \n",
            "  * * * * * * \n",
            "   * * * * * \n",
            "    * * * * \n",
            "     * * * \n",
            "      * * \n",
            "       * \n"
          ],
          "name": "stdout"
        }
      ]
    },
    {
      "cell_type": "code",
      "metadata": {
        "colab": {
          "base_uri": "https://localhost:8080/"
        },
        "id": "ILp9eCUKBhlx",
        "outputId": "59ae869f-c777-4578-8a49-484e32dcee8e"
      },
      "source": [
        "#using while loop\n",
        "\n",
        "n = int(input(\"enter no. of rows \"))\n",
        "p= 2*n+1\n",
        "i=1\n",
        "j+1\n",
        "while i<p:\n",
        "  print((n-j)*\" \", end=\"\")\n",
        "  print(i*\"*\")\n",
        "  i=i+2  \n",
        "  j= j+1"
      ],
      "execution_count": null,
      "outputs": [
        {
          "output_type": "stream",
          "text": [
            "enter no. of rows 5\n",
            "     *\n",
            "    ***\n",
            "   *****\n",
            "  *******\n",
            " *********\n"
          ],
          "name": "stdout"
        }
      ]
    },
    {
      "cell_type": "code",
      "metadata": {
        "id": "YTmDOhhaEC_b",
        "colab": {
          "base_uri": "https://localhost:8080/"
        },
        "outputId": "c58216fb-37b0-4219-dd8f-3941a8ac9123"
      },
      "source": [
        "#using string functions\n",
        "\n",
        "#find\n",
        "s = \"my name is  mak , name of  org is etc\"\n",
        "\n",
        "# to find the index of first name and all chars of name \n",
        "\n",
        "a = s.find(\"name\")\n",
        "\n",
        "for i in range(len(\"name\")):\n",
        "  print(a+i)\n"
      ],
      "execution_count": 6,
      "outputs": [
        {
          "output_type": "stream",
          "text": [
            "3\n",
            "4\n",
            "5\n",
            "6\n"
          ],
          "name": "stdout"
        }
      ]
    },
    {
      "cell_type": "code",
      "metadata": {
        "colab": {
          "base_uri": "https://localhost:8080/"
        },
        "id": "BXC3T1LOrrEA",
        "outputId": "1ae85a15-5efd-4e79-b178-b050d89bfc1b"
      },
      "source": [
        "#count   -- will give no of occurences of a substring in a string -- returns a list of substrings\n",
        "s.count(\"name\")"
      ],
      "execution_count": 3,
      "outputs": [
        {
          "output_type": "execute_result",
          "data": {
            "text/plain": [
              "2"
            ]
          },
          "metadata": {
            "tags": []
          },
          "execution_count": 3
        }
      ]
    },
    {
      "cell_type": "code",
      "metadata": {
        "colab": {
          "base_uri": "https://localhost:8080/"
        },
        "id": "jjLH51wr13xu",
        "outputId": "ac1fb885-7cda-4295-b8bb-dd52f6c30d58"
      },
      "source": [
        "#split  -- split the string in a substring acccording to parameter given(default = \" \")\n",
        "s.split()"
      ],
      "execution_count": 4,
      "outputs": [
        {
          "output_type": "execute_result",
          "data": {
            "text/plain": [
              "['my', 'name', 'is', 'mak', 'and', 'name', 'of', 'org', 'is', 'etc']"
            ]
          },
          "metadata": {
            "tags": []
          },
          "execution_count": 4
        }
      ]
    },
    {
      "cell_type": "code",
      "metadata": {
        "colab": {
          "base_uri": "https://localhost:8080/"
        },
        "id": "GIBhZCz42sWV",
        "outputId": "def41310-e48e-433e-9915-6fb795988fb6"
      },
      "source": [
        "s.split(\",\")"
      ],
      "execution_count": 8,
      "outputs": [
        {
          "output_type": "execute_result",
          "data": {
            "text/plain": [
              "['my name is  mak ', ' name of  org is etc']"
            ]
          },
          "metadata": {
            "tags": []
          },
          "execution_count": 8
        }
      ]
    },
    {
      "cell_type": "code",
      "metadata": {
        "colab": {
          "base_uri": "https://localhost:8080/",
          "height": 35
        },
        "id": "qD8zXYgl2ytC",
        "outputId": "7939402c-c380-4c5e-93c8-3e8ec7bc0b56"
      },
      "source": [
        "#strip -- returns string after removing side spaces (extreme left and right)\n",
        "\n",
        "s.strip()"
      ],
      "execution_count": 9,
      "outputs": [
        {
          "output_type": "execute_result",
          "data": {
            "application/vnd.google.colaboratory.intrinsic+json": {
              "type": "string"
            },
            "text/plain": [
              "'my name is  mak , name of  org is etc'"
            ]
          },
          "metadata": {
            "tags": []
          },
          "execution_count": 9
        }
      ]
    },
    {
      "cell_type": "code",
      "metadata": {
        "id": "0Hxxwzzt3aRb"
      },
      "source": [
        "#reversed()\n",
        "\n",
        "p = reversed(s)"
      ],
      "execution_count": 12,
      "outputs": []
    },
    {
      "cell_type": "code",
      "metadata": {
        "colab": {
          "base_uri": "https://localhost:8080/"
        },
        "id": "8P6D7Iej3qno",
        "outputId": "12728506-b0b6-4435-c769-b1496f33c245"
      },
      "source": [
        "print(p)"
      ],
      "execution_count": 13,
      "outputs": [
        {
          "output_type": "stream",
          "text": [
            "<reversed object at 0x7f15050600d0>\n"
          ],
          "name": "stdout"
        }
      ]
    },
    {
      "cell_type": "code",
      "metadata": {
        "colab": {
          "base_uri": "https://localhost:8080/"
        },
        "id": "CMaYEE7f4GIW",
        "outputId": "521b9ccf-ba66-462d-eb90-a0962e69d7a5"
      },
      "source": [
        "for i in p:\n",
        "  print(i)"
      ],
      "execution_count": 14,
      "outputs": [
        {
          "output_type": "stream",
          "text": [
            "c\n",
            "t\n",
            "e\n",
            " \n",
            "s\n",
            "i\n",
            " \n",
            "g\n",
            "r\n",
            "o\n",
            " \n",
            " \n",
            "f\n",
            "o\n",
            " \n",
            "e\n",
            "m\n",
            "a\n",
            "n\n",
            " \n",
            ",\n",
            " \n",
            "k\n",
            "a\n",
            "m\n",
            " \n",
            " \n",
            "s\n",
            "i\n",
            " \n",
            "e\n",
            "m\n",
            "a\n",
            "n\n",
            " \n",
            "y\n",
            "m\n"
          ],
          "name": "stdout"
        }
      ]
    },
    {
      "cell_type": "code",
      "metadata": {
        "colab": {
          "base_uri": "https://localhost:8080/",
          "height": 35
        },
        "id": "kEvwF7zT4PeQ",
        "outputId": "f9835c76-719a-441d-9d3f-27709b843cec"
      },
      "source": [
        "#  .join()\n",
        "\n",
        "\" \".join(s)"
      ],
      "execution_count": 15,
      "outputs": [
        {
          "output_type": "execute_result",
          "data": {
            "application/vnd.google.colaboratory.intrinsic+json": {
              "type": "string"
            },
            "text/plain": [
              "'m y   n a m e   i s     m a k   ,   n a m e   o f     o r g   i s   e t c'"
            ]
          },
          "metadata": {
            "tags": []
          },
          "execution_count": 15
        }
      ]
    },
    {
      "cell_type": "code",
      "metadata": {
        "id": "1VERZ-PC4ZXm"
      },
      "source": [
        "#it will join whatever u give in front"
      ],
      "execution_count": 16,
      "outputs": []
    },
    {
      "cell_type": "code",
      "metadata": {
        "colab": {
          "base_uri": "https://localhost:8080/",
          "height": 35
        },
        "id": "_e4jWuBu4jte",
        "outputId": "bee441db-9f3c-4d94-d14b-bc5eda6f641d"
      },
      "source": [
        "#replace\n",
        "\n",
        "s.replace(\"a\", \"b\")"
      ],
      "execution_count": 17,
      "outputs": [
        {
          "output_type": "execute_result",
          "data": {
            "application/vnd.google.colaboratory.intrinsic+json": {
              "type": "string"
            },
            "text/plain": [
              "'my nbme is  mbk , nbme of  org is etc'"
            ]
          },
          "metadata": {
            "tags": []
          },
          "execution_count": 17
        }
      ]
    },
    {
      "cell_type": "code",
      "metadata": {
        "colab": {
          "base_uri": "https://localhost:8080/"
        },
        "id": "CH-gpYxf5G83",
        "outputId": "272ebed1-0d84-4610-9ac9-b0fed5005938"
      },
      "source": [
        "#NOTE:  we learned that string is immutable object, but with replace() method we see we can change the string\n",
        "# actually we are not changing the string and original string will still be same\n",
        "\n",
        "print(s)"
      ],
      "execution_count": 18,
      "outputs": [
        {
          "output_type": "stream",
          "text": [
            "my name is  mak , name of  org is etc\n"
          ],
          "name": "stdout"
        }
      ]
    },
    {
      "cell_type": "code",
      "metadata": {
        "id": "QRxETE1E6AYU"
      },
      "source": [
        "# but we can do reassignment \n",
        "\n",
        "s = s.replace(\"a\", \"b\")"
      ],
      "execution_count": 20,
      "outputs": []
    },
    {
      "cell_type": "code",
      "metadata": {
        "colab": {
          "base_uri": "https://localhost:8080/"
        },
        "id": "PkZarEzL6JEU",
        "outputId": "1c1432ac-72fc-402c-af0d-702606ac4201"
      },
      "source": [
        "print(s)"
      ],
      "execution_count": 21,
      "outputs": [
        {
          "output_type": "stream",
          "text": [
            "my nbme is  mbk , nbme of  org is etc\n"
          ],
          "name": "stdout"
        }
      ]
    },
    {
      "cell_type": "code",
      "metadata": {
        "colab": {
          "base_uri": "https://localhost:8080/",
          "height": 35
        },
        "id": "tEW26U3X6SCs",
        "outputId": "46da75ad-9d7d-433a-a5a9-7321d81b2f8b"
      },
      "source": [
        "#centre\n",
        "\n",
        "b = \"mak\"\n",
        "b.center(10, \"#\")"
      ],
      "execution_count": 23,
      "outputs": [
        {
          "output_type": "execute_result",
          "data": {
            "application/vnd.google.colaboratory.intrinsic+json": {
              "type": "string"
            },
            "text/plain": [
              "'###mak####'"
            ]
          },
          "metadata": {
            "tags": []
          },
          "execution_count": 23
        }
      ]
    },
    {
      "cell_type": "code",
      "metadata": {
        "colab": {
          "base_uri": "https://localhost:8080/",
          "height": 35
        },
        "id": "EnaQeqQW-jDy",
        "outputId": "2fe0ffb9-6bc9-43ef-e844-b6ea6ca81111"
      },
      "source": [
        "b.center(9, \"u\")"
      ],
      "execution_count": 25,
      "outputs": [
        {
          "output_type": "execute_result",
          "data": {
            "application/vnd.google.colaboratory.intrinsic+json": {
              "type": "string"
            },
            "text/plain": [
              "'uuumakuuu'"
            ]
          },
          "metadata": {
            "tags": []
          },
          "execution_count": 25
        }
      ]
    },
    {
      "cell_type": "code",
      "metadata": {
        "id": "eTuzw8lh-w5X"
      },
      "source": [
        "#expandtabs"
      ],
      "execution_count": 26,
      "outputs": []
    },
    {
      "cell_type": "code",
      "metadata": {
        "colab": {
          "base_uri": "https://localhost:8080/",
          "height": 35
        },
        "id": "G-2xqpko-5k9",
        "outputId": "fff4e4b9-807a-413e-bae3-2959adfe8a6c"
      },
      "source": [
        "b= \"skjfkjf\\tfjkf\\tkdj\"\n",
        "b"
      ],
      "execution_count": 40,
      "outputs": [
        {
          "output_type": "execute_result",
          "data": {
            "application/vnd.google.colaboratory.intrinsic+json": {
              "type": "string"
            },
            "text/plain": [
              "'skjfkjf\\tfjkf\\tkdj'"
            ]
          },
          "metadata": {
            "tags": []
          },
          "execution_count": 40
        }
      ]
    },
    {
      "cell_type": "code",
      "metadata": {
        "colab": {
          "base_uri": "https://localhost:8080/",
          "height": 35
        },
        "id": "1H7a7Mc8_Cwi",
        "outputId": "beb58424-eb14-4d1d-d510-89d4ec99d76f"
      },
      "source": [
        "b.expandtabs()"
      ],
      "execution_count": 41,
      "outputs": [
        {
          "output_type": "execute_result",
          "data": {
            "application/vnd.google.colaboratory.intrinsic+json": {
              "type": "string"
            },
            "text/plain": [
              "'skjfkjf fjkf    kdj'"
            ]
          },
          "metadata": {
            "tags": []
          },
          "execution_count": 41
        }
      ]
    },
    {
      "cell_type": "code",
      "metadata": {
        "id": "6lHAj040_FoV"
      },
      "source": [
        "a = \"we all are part of Full Stack \""
      ],
      "execution_count": 42,
      "outputs": []
    },
    {
      "cell_type": "code",
      "metadata": {
        "colab": {
          "base_uri": "https://localhost:8080/",
          "height": 35
        },
        "id": "hz-W45mYA53a",
        "outputId": "9d0d2c61-5a7c-48ed-a004-d2f8541f6935"
      },
      "source": [
        "a.lower()"
      ],
      "execution_count": 43,
      "outputs": [
        {
          "output_type": "execute_result",
          "data": {
            "application/vnd.google.colaboratory.intrinsic+json": {
              "type": "string"
            },
            "text/plain": [
              "'we all are part of full stack '"
            ]
          },
          "metadata": {
            "tags": []
          },
          "execution_count": 43
        }
      ]
    },
    {
      "cell_type": "code",
      "metadata": {
        "colab": {
          "base_uri": "https://localhost:8080/"
        },
        "id": "2mi6AalkA8FZ",
        "outputId": "bd099f0e-4fa4-4ddd-bafa-7fabb166f319"
      },
      "source": [
        "a.count(\"a\")"
      ],
      "execution_count": 45,
      "outputs": [
        {
          "output_type": "execute_result",
          "data": {
            "text/plain": [
              "4"
            ]
          },
          "metadata": {
            "tags": []
          },
          "execution_count": 45
        }
      ]
    },
    {
      "cell_type": "code",
      "metadata": {
        "colab": {
          "base_uri": "https://localhost:8080/"
        },
        "id": "G8VUnS8mBAR2",
        "outputId": "43f94496-0f85-4e2c-a2a0-5c7c52ef9425"
      },
      "source": [
        "j=0\n",
        "for i in range(len(a)):\n",
        "  if a[i]==\"a\":\n",
        "    print(i)\n",
        "    "
      ],
      "execution_count": 50,
      "outputs": [
        {
          "output_type": "stream",
          "text": [
            "3\n",
            "7\n",
            "12\n",
            "26\n"
          ],
          "name": "stdout"
        }
      ]
    },
    {
      "cell_type": "code",
      "metadata": {
        "id": "ywZykJasBqkZ"
      },
      "source": [
        "a=a.replace(\"a\", \"iNeuron\")"
      ],
      "execution_count": 54,
      "outputs": []
    },
    {
      "cell_type": "code",
      "metadata": {
        "colab": {
          "base_uri": "https://localhost:8080/"
        },
        "id": "nGqH7JKyCcZ6",
        "outputId": "6fe15e9a-4fcb-43ab-9b20-b0614e006ff0"
      },
      "source": [
        "print(a)"
      ],
      "execution_count": 55,
      "outputs": [
        {
          "output_type": "stream",
          "text": [
            "we iNeuronll iNeuronre piNeuronrt of Full StiNeuronck \n"
          ],
          "name": "stdout"
        }
      ]
    },
    {
      "cell_type": "code",
      "metadata": {
        "id": "JSccf1zDCjiO"
      },
      "source": [
        "p = a.split()"
      ],
      "execution_count": 58,
      "outputs": []
    },
    {
      "cell_type": "code",
      "metadata": {
        "colab": {
          "base_uri": "https://localhost:8080/"
        },
        "id": "WdR6Z2H3Cyav",
        "outputId": "2d5afb89-37d0-4e8d-8675-ee78a2a8890c"
      },
      "source": [
        "p"
      ],
      "execution_count": 60,
      "outputs": [
        {
          "output_type": "execute_result",
          "data": {
            "text/plain": [
              "['we', 'iNeuronll', 'iNeuronre', 'piNeuronrt', 'of', 'Full', 'StiNeuronck']"
            ]
          },
          "metadata": {
            "tags": []
          },
          "execution_count": 60
        }
      ]
    },
    {
      "cell_type": "code",
      "metadata": {
        "colab": {
          "base_uri": "https://localhost:8080/"
        },
        "id": "PmFN-JrpC6DU",
        "outputId": "ce134104-233f-47ea-d076-c43aaedd838a"
      },
      "source": [
        "print(\"the list of elements is \", p)"
      ],
      "execution_count": 61,
      "outputs": [
        {
          "output_type": "stream",
          "text": [
            "the list of elements is  ['we', 'iNeuronll', 'iNeuronre', 'piNeuronrt', 'of', 'Full', 'StiNeuronck']\n"
          ],
          "name": "stdout"
        }
      ]
    },
    {
      "cell_type": "code",
      "metadata": {
        "colab": {
          "base_uri": "https://localhost:8080/"
        },
        "id": "-d0dQeLOEUM8",
        "outputId": "1f319894-4c1c-4dbc-d51f-07bb232ccf90"
      },
      "source": [
        "a = \"iNueuron\"\n",
        "b = \"AaEeIiOoUu\"\n",
        "for i in a:\n",
        "  if i in b:\n",
        "    print(\"{} is a vowel\".format(i) )"
      ],
      "execution_count": 62,
      "outputs": [
        {
          "output_type": "stream",
          "text": [
            "i is a vowel\n",
            "u is a vowel\n",
            "e is a vowel\n",
            "u is a vowel\n",
            "o is a vowel\n"
          ],
          "name": "stdout"
        }
      ]
    },
    {
      "cell_type": "code",
      "metadata": {
        "colab": {
          "base_uri": "https://localhost:8080/"
        },
        "id": "mMUQHoY4PcWJ",
        "outputId": "53c252f1-b734-442e-c99d-c1a63f9c84d9"
      },
      "source": [
        "# check palindrome\n",
        "\n",
        "a = input(\"Enter a string\")\n",
        "\n",
        "b = a[::-1]\n",
        "\n",
        "if a==b:\n",
        "  print (\" it is a palindrome\")\n",
        "else:\n",
        "  print(\"not a palindrome\")\n",
        "\n"
      ],
      "execution_count": 64,
      "outputs": [
        {
          "output_type": "stream",
          "text": [
            "Enter a stringjdjdh\n",
            "not a palindrome\n"
          ],
          "name": "stdout"
        }
      ]
    },
    {
      "cell_type": "code",
      "metadata": {
        "id": "qER0wQu6RTOF"
      },
      "source": [
        "# list manipulation\n",
        "\n",
        "s= \"abc\"\n",
        "\n",
        "list1 =[]\n",
        "list1.append(\"akjdj\")"
      ],
      "execution_count": 109,
      "outputs": []
    },
    {
      "cell_type": "code",
      "metadata": {
        "colab": {
          "base_uri": "https://localhost:8080/"
        },
        "id": "ywP2wj7Dg2I7",
        "outputId": "722964fb-5761-4ddc-8916-211c4291c21f"
      },
      "source": [
        "type (list1)"
      ],
      "execution_count": 106,
      "outputs": [
        {
          "output_type": "execute_result",
          "data": {
            "text/plain": [
              "list"
            ]
          },
          "metadata": {
            "tags": []
          },
          "execution_count": 106
        }
      ]
    },
    {
      "cell_type": "code",
      "metadata": {
        "colab": {
          "base_uri": "https://localhost:8080/"
        },
        "id": "jZSc0JG8g86n",
        "outputId": "92247074-6d69-4655-d826-d7fa853e7b36"
      },
      "source": [
        "# list1 +s # this will not work\n",
        "\n",
        "s = list(s)    ##this method will convert  it into list but it will separate each char\n",
        "\n",
        "s"
      ],
      "execution_count": 112,
      "outputs": [
        {
          "output_type": "execute_result",
          "data": {
            "text/plain": [
              "['a', 'b', 'c']"
            ]
          },
          "metadata": {
            "tags": []
          },
          "execution_count": 112
        }
      ]
    },
    {
      "cell_type": "code",
      "metadata": {
        "id": "gPFMtmMKg-o9"
      },
      "source": [
        "st = \"asljfj\"\n",
        "list1.append(st) #this way we can add it as it is"
      ],
      "execution_count": 113,
      "outputs": []
    },
    {
      "cell_type": "code",
      "metadata": {
        "colab": {
          "base_uri": "https://localhost:8080/"
        },
        "id": "ys-2s86oiVA0",
        "outputId": "8a900688-1dcc-45dd-b91b-3f2696915e91"
      },
      "source": [
        "list1"
      ],
      "execution_count": 114,
      "outputs": [
        {
          "output_type": "execute_result",
          "data": {
            "text/plain": [
              "['akjdj', 'asljfj']"
            ]
          },
          "metadata": {
            "tags": []
          },
          "execution_count": 114
        }
      ]
    },
    {
      "cell_type": "code",
      "metadata": {
        "id": "vy-IiHygiXm-"
      },
      "source": [
        "s2 = \" kdjif \"\n",
        "list1.insert(0, s2) #this way also we can do it"
      ],
      "execution_count": 115,
      "outputs": []
    },
    {
      "cell_type": "code",
      "metadata": {
        "colab": {
          "base_uri": "https://localhost:8080/"
        },
        "id": "ewH-vCnbixoA",
        "outputId": "325d5b86-42ea-433f-84dc-be81eb16f550"
      },
      "source": [
        "list1"
      ],
      "execution_count": 116,
      "outputs": [
        {
          "output_type": "execute_result",
          "data": {
            "text/plain": [
              "[' kdjif ', 'akjdj', 'asljfj']"
            ]
          },
          "metadata": {
            "tags": []
          },
          "execution_count": 116
        }
      ]
    },
    {
      "cell_type": "code",
      "metadata": {
        "colab": {
          "base_uri": "https://localhost:8080/"
        },
        "id": "ckHX9MZPizEO",
        "outputId": "739e0a08-d381-4163-d225-24ed296dd432"
      },
      "source": [
        "#finding index of 2nd name\n",
        "\n",
        "s= \"what is in the name, all name is name\"\n",
        "s.count(\"name\")"
      ],
      "execution_count": 117,
      "outputs": [
        {
          "output_type": "execute_result",
          "data": {
            "text/plain": [
              "3"
            ]
          },
          "metadata": {
            "tags": []
          },
          "execution_count": 117
        }
      ]
    },
    {
      "cell_type": "code",
      "metadata": {
        "id": "faHQmCMfnpnF"
      },
      "source": [
        ""
      ],
      "execution_count": null,
      "outputs": []
    }
  ]
}