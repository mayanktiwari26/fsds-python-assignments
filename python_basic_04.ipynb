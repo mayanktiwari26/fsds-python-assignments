{
  "nbformat": 4,
  "nbformat_minor": 0,
  "metadata": {
    "colab": {
      "name": "python_basic_04.ipynb",
      "provenance": [],
      "collapsed_sections": [],
      "authorship_tag": "ABX9TyNJzOjkN8V+9n4ND4F/rAIh"
    },
    "kernelspec": {
      "name": "python3",
      "display_name": "Python 3"
    },
    "language_info": {
      "name": "python"
    }
  },
  "cells": [
    {
      "cell_type": "code",
      "metadata": {
        "id": "oKyrW-rYi0Zw"
      },
      "source": [
        "1. What exactly is []?\n",
        "\n",
        "Answer1. [] is a list"
      ],
      "execution_count": null,
      "outputs": []
    },
    {
      "cell_type": "code",
      "metadata": {
        "colab": {
          "base_uri": "https://localhost:8080/"
        },
        "id": "DmfmrRcDi7xW",
        "outputId": "a15c7fc1-6b3c-44de-d5d3-14d51e64e576"
      },
      "source": [
        "#2. In a list of values stored in a variable called spam, how would you assign the value 'hello' as the\n",
        "#third value? (Assume [2, 4, 6, 8, 10] are in spam.)\n",
        "\n",
        "#Answer2.\n",
        "\n",
        "spam = [2, 4, 6, 8, 10]\n",
        "spam[2] = 'hello'\n",
        "spam"
      ],
      "execution_count": 6,
      "outputs": [
        {
          "output_type": "execute_result",
          "data": {
            "text/plain": [
              "[2, 4, 'hello', 8, 10]"
            ]
          },
          "metadata": {},
          "execution_count": 6
        }
      ]
    },
    {
      "cell_type": "markdown",
      "metadata": {
        "id": "jgNDONIAj4DR"
      },
      "source": [
        "Let's pretend the spam includes the list ['a', 'b', 'c', 'd'] for the next three queries.\n",
        "3. What is the value of spam[int(int('3' * 2) / 11)]?\n",
        "4. What is the value of spam[-1]?\n",
        "5. What is the value of spam[:2]?"
      ]
    },
    {
      "cell_type": "code",
      "metadata": {
        "colab": {
          "base_uri": "https://localhost:8080/",
          "height": 35
        },
        "id": "bkgGDAQkjSGR",
        "outputId": "98e0134b-2ea8-4842-9a4b-7892ea594b30"
      },
      "source": [
        "#Answer3\n",
        "\n",
        "spam = [ 'a', 'b', 'c', 'd']\n",
        "spam[int(int('3'*2)/11)]"
      ],
      "execution_count": 9,
      "outputs": [
        {
          "output_type": "execute_result",
          "data": {
            "application/vnd.google.colaboratory.intrinsic+json": {
              "type": "string"
            },
            "text/plain": [
              "'d'"
            ]
          },
          "metadata": {},
          "execution_count": 9
        }
      ]
    },
    {
      "cell_type": "code",
      "metadata": {
        "colab": {
          "base_uri": "https://localhost:8080/",
          "height": 35
        },
        "id": "RZ6nfdfdjSOn",
        "outputId": "b6a87c6f-ec82-481f-81d6-b4d29956e544"
      },
      "source": [
        "#Answer4\n",
        "\n",
        "spam[-1]"
      ],
      "execution_count": 11,
      "outputs": [
        {
          "output_type": "execute_result",
          "data": {
            "application/vnd.google.colaboratory.intrinsic+json": {
              "type": "string"
            },
            "text/plain": [
              "'d'"
            ]
          },
          "metadata": {},
          "execution_count": 11
        }
      ]
    },
    {
      "cell_type": "code",
      "metadata": {
        "colab": {
          "base_uri": "https://localhost:8080/"
        },
        "id": "SSODdZGpjSVv",
        "outputId": "763bb339-fe51-4aeb-8c45-df12bcca7ae4"
      },
      "source": [
        "#Answer5\n",
        "\n",
        "spam[:2]"
      ],
      "execution_count": 12,
      "outputs": [
        {
          "output_type": "execute_result",
          "data": {
            "text/plain": [
              "['a', 'b']"
            ]
          },
          "metadata": {},
          "execution_count": 12
        }
      ]
    },
    {
      "cell_type": "markdown",
      "metadata": {
        "id": "hQCNzIwbk0zM"
      },
      "source": [
        "Let's pretend bacon has the list [3.14, 'cat,' 11, 'cat,' True] for the next three questions.\n",
        "6. What is the value of bacon.index('cat')?\n",
        "7. How does bacon.append(99) change the look of the list value in bacon?\n",
        "8. How does bacon.remove('cat') change the look of the list in bacon?"
      ]
    },
    {
      "cell_type": "code",
      "metadata": {
        "colab": {
          "base_uri": "https://localhost:8080/"
        },
        "id": "yxD0047ejSZk",
        "outputId": "69c4abbc-a619-4596-b62a-dcc25900f01e"
      },
      "source": [
        "#Answer6\n",
        "\n",
        "bacon = [3.14,'cat',11,'cat', True]\n",
        "bacon.index('cat')"
      ],
      "execution_count": 14,
      "outputs": [
        {
          "output_type": "execute_result",
          "data": {
            "text/plain": [
              "1"
            ]
          },
          "metadata": {},
          "execution_count": 14
        }
      ]
    },
    {
      "cell_type": "code",
      "metadata": {
        "colab": {
          "base_uri": "https://localhost:8080/"
        },
        "id": "BdgDPpSZjSc3",
        "outputId": "190a3435-ebf1-40b4-e4e3-c997d76b9a9f"
      },
      "source": [
        "#Answer7.\n",
        "\n",
        "bacon.append(99)\n",
        "bacon"
      ],
      "execution_count": 15,
      "outputs": [
        {
          "output_type": "execute_result",
          "data": {
            "text/plain": [
              "[3.14, 'cat', 11, 'cat', True, 99]"
            ]
          },
          "metadata": {},
          "execution_count": 15
        }
      ]
    },
    {
      "cell_type": "code",
      "metadata": {
        "colab": {
          "base_uri": "https://localhost:8080/"
        },
        "id": "bG8utK54ly_U",
        "outputId": "e1e3a0be-c3fa-4833-e4c5-1c2f273c697c"
      },
      "source": [
        "#Answer8\n",
        "\n",
        "bacon.remove('cat')\n",
        "bacon\n"
      ],
      "execution_count": 17,
      "outputs": [
        {
          "output_type": "execute_result",
          "data": {
            "text/plain": [
              "[3.14, 11, True, 99]"
            ]
          },
          "metadata": {},
          "execution_count": 17
        }
      ]
    },
    {
      "cell_type": "markdown",
      "metadata": {
        "id": "-mQ9TnWZl-a-"
      },
      "source": [
        "9. What are the list concatenation and list replication operators?"
      ]
    },
    {
      "cell_type": "code",
      "metadata": {
        "id": "80e17yKWmCnM"
      },
      "source": [
        "#Answer9  for concatenation - ' + ' and for replication - ' * '"
      ],
      "execution_count": null,
      "outputs": []
    },
    {
      "cell_type": "markdown",
      "metadata": {
        "id": "EwHRogJImktp"
      },
      "source": [
        "10. What is difference between the list methods append() and insert()?"
      ]
    },
    {
      "cell_type": "code",
      "metadata": {
        "colab": {
          "base_uri": "https://localhost:8080/"
        },
        "id": "1kNRUCNJmC9w",
        "outputId": "76b3e14b-743d-488e-c2ca-826edfde2ed5"
      },
      "source": [
        "#Answer10  append() method adds the value at the end of the list and insert() method allows us to add the value at any particular index\n",
        "l =[1,'a']\n",
        "l.append(\"name\")\n",
        "l.insert(1,\"boy\")\n",
        "l"
      ],
      "execution_count": 19,
      "outputs": [
        {
          "output_type": "execute_result",
          "data": {
            "text/plain": [
              "[1, 'boy', 'a', 'name']"
            ]
          },
          "metadata": {},
          "execution_count": 19
        }
      ]
    },
    {
      "cell_type": "markdown",
      "metadata": {
        "id": "Sr3qJBlRnJJ7"
      },
      "source": [
        "11. What are the two methods for removing items from a list?"
      ]
    },
    {
      "cell_type": "code",
      "metadata": {
        "colab": {
          "base_uri": "https://localhost:8080/"
        },
        "id": "5n0r0hYZmDAd",
        "outputId": "115562de-6e4f-4de9-fb78-19d8de5083d1"
      },
      "source": [
        "#Answer11  remove(value) and pop(index)\n",
        "\n",
        "l.remove('a')\n",
        "l.pop(0)\n"
      ],
      "execution_count": 20,
      "outputs": [
        {
          "output_type": "execute_result",
          "data": {
            "text/plain": [
              "1"
            ]
          },
          "metadata": {},
          "execution_count": 20
        }
      ]
    },
    {
      "cell_type": "markdown",
      "metadata": {
        "id": "vO-K5ajanuNj"
      },
      "source": [
        "12. Describe how list values and string values are identical."
      ]
    },
    {
      "cell_type": "code",
      "metadata": {
        "colab": {
          "base_uri": "https://localhost:8080/"
        },
        "id": "U-lyuvH6nyKK",
        "outputId": "75983b76-e56c-4dc6-fb83-aba3ef4bc79b"
      },
      "source": [
        "#Answer12 list values and string values both can be iterated in similar manner\n",
        "\n",
        "l1= ['a','b','c']\n",
        "s1= 'abc'\n",
        "\n",
        "l1[1:]"
      ],
      "execution_count": 22,
      "outputs": [
        {
          "output_type": "execute_result",
          "data": {
            "text/plain": [
              "['b', 'c']"
            ]
          },
          "metadata": {},
          "execution_count": 22
        }
      ]
    },
    {
      "cell_type": "code",
      "metadata": {
        "colab": {
          "base_uri": "https://localhost:8080/",
          "height": 35
        },
        "id": "RR3J_ykunyNN",
        "outputId": "97111a7a-ab3f-49f4-cfec-f26f6e38932f"
      },
      "source": [
        "s1[1:]"
      ],
      "execution_count": 23,
      "outputs": [
        {
          "output_type": "execute_result",
          "data": {
            "application/vnd.google.colaboratory.intrinsic+json": {
              "type": "string"
            },
            "text/plain": [
              "'bc'"
            ]
          },
          "metadata": {},
          "execution_count": 23
        }
      ]
    },
    {
      "cell_type": "code",
      "metadata": {
        "colab": {
          "base_uri": "https://localhost:8080/"
        },
        "id": "6LbkYUldoUQv",
        "outputId": "9f11dd7a-f525-4fa4-f4a5-0f147bce872d"
      },
      "source": [
        "# concatenation and multiplication also works in a similar manner\n",
        "\n",
        "l1+[1,2,3]"
      ],
      "execution_count": 24,
      "outputs": [
        {
          "output_type": "execute_result",
          "data": {
            "text/plain": [
              "['a', 'b', 'c', 1, 2, 3]"
            ]
          },
          "metadata": {},
          "execution_count": 24
        }
      ]
    },
    {
      "cell_type": "code",
      "metadata": {
        "colab": {
          "base_uri": "https://localhost:8080/",
          "height": 35
        },
        "id": "uq4n55ndojoK",
        "outputId": "8217b4a5-6275-44fd-b4ab-072917ed708b"
      },
      "source": [
        "s1+'123'"
      ],
      "execution_count": 26,
      "outputs": [
        {
          "output_type": "execute_result",
          "data": {
            "application/vnd.google.colaboratory.intrinsic+json": {
              "type": "string"
            },
            "text/plain": [
              "'abc123'"
            ]
          },
          "metadata": {},
          "execution_count": 26
        }
      ]
    },
    {
      "cell_type": "markdown",
      "metadata": {
        "id": "L46f-ibooq4u"
      },
      "source": [
        "13. What's the difference between tuples and lists?"
      ]
    },
    {
      "cell_type": "code",
      "metadata": {
        "id": "5tzkWWrZookN"
      },
      "source": [
        "#Answer13  key difference is that tuples are immutable objects while lists are mutable, which means tuples values cannot be modified but lists can be modified"
      ],
      "execution_count": null,
      "outputs": []
    },
    {
      "cell_type": "markdown",
      "metadata": {
        "id": "jMrl_9qAoqYv"
      },
      "source": [
        "14. How do you type a tuple value that only contains the integer 42?"
      ]
    },
    {
      "cell_type": "code",
      "metadata": {
        "colab": {
          "base_uri": "https://localhost:8080/"
        },
        "id": "N6JNUAhhoju6",
        "outputId": "f1b90008-986f-41d5-f8e2-698d5da16081"
      },
      "source": [
        "#Answer14\n",
        "t = (42,)\n",
        "type(t)"
      ],
      "execution_count": 29,
      "outputs": [
        {
          "output_type": "execute_result",
          "data": {
            "text/plain": [
              "tuple"
            ]
          },
          "metadata": {},
          "execution_count": 29
        }
      ]
    },
    {
      "cell_type": "markdown",
      "metadata": {
        "id": "lNOll025pZ5K"
      },
      "source": [
        "15. How do you get a list value's tuple form? How do you get a tuple value's list form?"
      ]
    },
    {
      "cell_type": "code",
      "metadata": {
        "colab": {
          "base_uri": "https://localhost:8080/"
        },
        "id": "RljOaihiojyw",
        "outputId": "45a9f97b-aff7-4e87-b941-9322d32ab727"
      },
      "source": [
        "#Answer15\n",
        "\n",
        "l2 = ['a','b','c']\n",
        "t2 = (1,2,3)\n",
        "\n",
        "t3 = tuple(l2)\n",
        "l3 = list(t2)\n",
        "\n",
        "l3,t3"
      ],
      "execution_count": 30,
      "outputs": [
        {
          "output_type": "execute_result",
          "data": {
            "text/plain": [
              "([1, 2, 3], ('a', 'b', 'c'))"
            ]
          },
          "metadata": {},
          "execution_count": 30
        }
      ]
    },
    {
      "cell_type": "markdown",
      "metadata": {
        "id": "w4eTYmfkp_u3"
      },
      "source": [
        "16. Variables that &quot;contain&quot; list values are not necessarily lists themselves. Instead, what do they\n",
        "contain?"
      ]
    },
    {
      "cell_type": "code",
      "metadata": {
        "colab": {
          "base_uri": "https://localhost:8080/"
        },
        "id": "E9c-_7qXoj1w",
        "outputId": "7892409a-fd61-4691-c603-f275a5b52eeb"
      },
      "source": [
        "#Answer16\n",
        "\n",
        "# it is not necessary as we can see from below example, they can contain any other value as well\n",
        "\n",
        "a = ([1,2,3],['a','b'],1,True)\n",
        "type(a)"
      ],
      "execution_count": 32,
      "outputs": [
        {
          "output_type": "execute_result",
          "data": {
            "text/plain": [
              "tuple"
            ]
          },
          "metadata": {},
          "execution_count": 32
        }
      ]
    },
    {
      "cell_type": "markdown",
      "metadata": {
        "id": "5Mj7Wxxjq_W5"
      },
      "source": [
        "17. How do you distinguish between copy.copy() and copy.deepcopy()?"
      ]
    },
    {
      "cell_type": "code",
      "metadata": {
        "id": "sO5kargHincg",
        "colab": {
          "base_uri": "https://localhost:8080/"
        },
        "outputId": "c6ddd781-fd50-4346-90be-cdc57015e85f"
      },
      "source": [
        "#Answer17  we can understand this with the help of below example\n",
        "\n",
        "ls1= [1,[2,3],4]\n",
        "ls2 = ls1\n",
        "\n",
        "# above example will have same values as well as same address for ls1, ls2\n",
        "\n",
        "id(ls1), id(ls2)\n",
        "\n"
      ],
      "execution_count": 62,
      "outputs": [
        {
          "output_type": "execute_result",
          "data": {
            "text/plain": [
              "(140149512664000, 140149512664000)"
            ]
          },
          "metadata": {},
          "execution_count": 62
        }
      ]
    },
    {
      "cell_type": "code",
      "metadata": {
        "id": "-UDJ5YG-iQcq"
      },
      "source": [
        "# this means if we change any element of one list it will be visible in other as well\n",
        "# so we use copy module of python\n",
        "\n",
        "import copy"
      ],
      "execution_count": 63,
      "outputs": []
    },
    {
      "cell_type": "code",
      "metadata": {
        "id": "DSF_w8nhuIHi"
      },
      "source": [
        "#shallow copy- .copy()\n",
        "#deep copy -. deepcopy()\n",
        "\n",
        "ls3 = copy.copy(ls1)\n",
        "ls4 = copy.deepcopy(ls1)\n",
        "\n"
      ],
      "execution_count": 64,
      "outputs": []
    },
    {
      "cell_type": "code",
      "metadata": {
        "colab": {
          "base_uri": "https://localhost:8080/"
        },
        "id": "DAfIdnqcuiy6",
        "outputId": "d829c448-ebfc-4a71-d183-d4319b5f193a"
      },
      "source": [
        "ls3,ls4,ls1,ls2"
      ],
      "execution_count": 65,
      "outputs": [
        {
          "output_type": "execute_result",
          "data": {
            "text/plain": [
              "([1, [2, 3], 4], [1, [2, 3], 4], [1, [2, 3], 4], [1, [2, 3], 4])"
            ]
          },
          "metadata": {},
          "execution_count": 65
        }
      ]
    },
    {
      "cell_type": "code",
      "metadata": {
        "id": "oKpp4HZ5uqBS"
      },
      "source": [
        "ls1[1][0]=\"hello\"\n",
        "\n",
        "\n",
        "\n"
      ],
      "execution_count": 66,
      "outputs": []
    },
    {
      "cell_type": "code",
      "metadata": {
        "colab": {
          "base_uri": "https://localhost:8080/"
        },
        "id": "dNTHtp5Hu5Uy",
        "outputId": "245b6a09-ee7b-4957-cdc9-8d3eefd83387"
      },
      "source": [
        "ls1,ls3,ls4"
      ],
      "execution_count": 67,
      "outputs": [
        {
          "output_type": "execute_result",
          "data": {
            "text/plain": [
              "([1, ['hello', 3], 4], [1, ['hello', 3], 4], [1, [2, 3], 4])"
            ]
          },
          "metadata": {},
          "execution_count": 67
        }
      ]
    },
    {
      "cell_type": "markdown",
      "metadata": {
        "id": "KWZ-OmHczhCB"
      },
      "source": [
        "we can see in case of shallow copy the changes in original list is visible , but in case of deepcopy not visible\n",
        "\n",
        "A shallow copy creates a new object which stores the reference of the original elements.\n",
        "So, a shallow copy doesn't create a copy of nested objects, instead it just copies the reference of nested objects. This means, a copy process does not recurse or create copies of nested objects itself.\n",
        "\n",
        "Deepcopy-\n",
        "A deep copy creates a new object and recursively adds the copies of nested objects present in the original elements."
      ]
    }
  ]
}