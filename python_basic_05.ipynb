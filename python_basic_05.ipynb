{
  "nbformat": 4,
  "nbformat_minor": 0,
  "metadata": {
    "colab": {
      "name": "python_basic_05.ipynb",
      "provenance": [],
      "collapsed_sections": [],
      "authorship_tag": "ABX9TyPurfc7crfWujyKlK6bS09s",
      "include_colab_link": true
    },
    "kernelspec": {
      "name": "python3",
      "display_name": "Python 3"
    },
    "language_info": {
      "name": "python"
    }
  },
  "cells": [
    {
      "cell_type": "markdown",
      "metadata": {
        "id": "view-in-github",
        "colab_type": "text"
      },
      "source": [
        "<a href=\"https://colab.research.google.com/github/mayanktiwari26/fsds-python-assignments/blob/main/python_basic_05.ipynb\" target=\"_parent\"><img src=\"https://colab.research.google.com/assets/colab-badge.svg\" alt=\"Open In Colab\"/></a>"
      ]
    },
    {
      "cell_type": "markdown",
      "metadata": {
        "id": "SjPHHruMWQtU"
      },
      "source": [
        "1. What does an empty dictionary&#39;s code look like?\n",
        "2. What is the value of a dictionary value with the key &#39;foo&#39; and the value 42?\n",
        "3. What is the most significant distinction between a dictionary and a list?\n",
        "4. What happens if you try to access spam[&#39;foo&#39;] if spam is {&#39;bar&#39;: 100}?\n",
        "5. If a dictionary is stored in spam, what is the difference between the expressions &#39;cat&#39; in spam and\n",
        "&#39;cat&#39; in spam.keys()?\n",
        "6. If a dictionary is stored in spam, what is the difference between the expressions &#39;cat&#39; in spam and\n",
        "&#39;cat&#39; in spam.values()?\n",
        "7. What is a shortcut for the following code?\n",
        "if &#39;color&#39; not in spam:\n",
        "spam[&#39;color&#39;] = &#39;black&#39;\n",
        "\n",
        "8. How do you &quot;pretty print&quot; dictionary values using which module and function?"
      ]
    },
    {
      "cell_type": "markdown",
      "metadata": {
        "id": "vv_X1-7AWblo"
      },
      "source": [
        "1. What does an empty dictionary's code look like?"
      ]
    },
    {
      "cell_type": "code",
      "metadata": {
        "id": "mdtOudZaWgOG"
      },
      "source": [
        "#Answer1 \n",
        "\n",
        "{}"
      ],
      "execution_count": null,
      "outputs": []
    },
    {
      "cell_type": "markdown",
      "metadata": {
        "id": "ndT2T47XWcvC"
      },
      "source": [
        "2. What is the value of a dictionary value with the key 'foo' and the value 42?"
      ]
    },
    {
      "cell_type": "code",
      "metadata": {
        "id": "U5uJXphnWyRX"
      },
      "source": [
        "dic1 = {\"foo\":42}"
      ],
      "execution_count": null,
      "outputs": []
    },
    {
      "cell_type": "markdown",
      "metadata": {
        "id": "4gNdsLF2a4pS"
      },
      "source": [
        "3. What is the most significant distinction between a dictionary and a list?"
      ]
    },
    {
      "cell_type": "code",
      "metadata": {
        "id": "y9bke9j1a--u"
      },
      "source": [
        "#Answer3.\n",
        "\n",
        "items in lists are ordered\n",
        "\n",
        "items in dictionaries are unordered"
      ],
      "execution_count": null,
      "outputs": []
    },
    {
      "cell_type": "markdown",
      "metadata": {
        "id": "Q6kuAzxmb2kk"
      },
      "source": [
        "4. What happens if you try to access spam['foo'] if spam is {'bar': 100}?"
      ]
    },
    {
      "cell_type": "code",
      "metadata": {
        "colab": {
          "base_uri": "https://localhost:8080/",
          "height": 201
        },
        "id": "oz3HiCJ4cGwW",
        "outputId": "a19ae81d-f4d2-47a6-827b-43612bc8f453"
      },
      "source": [
        "#Answer 4  it will throw a key error\n",
        "\n",
        "spam = {'bar':100}\n",
        "\n",
        "spam['foo']"
      ],
      "execution_count": 1,
      "outputs": [
        {
          "output_type": "error",
          "ename": "KeyError",
          "evalue": "ignored",
          "traceback": [
            "\u001b[0;31m---------------------------------------------------------------------------\u001b[0m",
            "\u001b[0;31mKeyError\u001b[0m                                  Traceback (most recent call last)",
            "\u001b[0;32m<ipython-input-1-63a58a8fcb65>\u001b[0m in \u001b[0;36m<module>\u001b[0;34m()\u001b[0m\n\u001b[1;32m      3\u001b[0m \u001b[0mspam\u001b[0m \u001b[0;34m=\u001b[0m \u001b[0;34m{\u001b[0m\u001b[0;34m'bar'\u001b[0m\u001b[0;34m:\u001b[0m\u001b[0;36m100\u001b[0m\u001b[0;34m}\u001b[0m\u001b[0;34m\u001b[0m\u001b[0;34m\u001b[0m\u001b[0m\n\u001b[1;32m      4\u001b[0m \u001b[0;34m\u001b[0m\u001b[0m\n\u001b[0;32m----> 5\u001b[0;31m \u001b[0mspam\u001b[0m\u001b[0;34m[\u001b[0m\u001b[0;34m'foo'\u001b[0m\u001b[0;34m]\u001b[0m\u001b[0;34m\u001b[0m\u001b[0;34m\u001b[0m\u001b[0m\n\u001b[0m",
            "\u001b[0;31mKeyError\u001b[0m: 'foo'"
          ]
        }
      ]
    },
    {
      "cell_type": "markdown",
      "metadata": {
        "id": "JK2VG18Ecq3S"
      },
      "source": [
        "5. If a dictionary is stored in spam, what is the difference between the expressions 'cat' in spam and 'cat' in spam.keys()?\n"
      ]
    },
    {
      "cell_type": "code",
      "metadata": {
        "colab": {
          "base_uri": "https://localhost:8080/"
        },
        "id": "qA-2eLp2cS5l",
        "outputId": "e9ad82f6-0c9d-4b9f-e298-2b2dd3822ef9"
      },
      "source": [
        "#Answer 5\n",
        "\n",
        "'''\n",
        "both returns True for 'cat' available in the form of keys in dictionary\n",
        "'''\n",
        "\n",
        "spam ={1:'a','cat':2}\n",
        "\n",
        "'cat' in spam"
      ],
      "execution_count": 13,
      "outputs": [
        {
          "output_type": "execute_result",
          "data": {
            "text/plain": [
              "True"
            ]
          },
          "metadata": {},
          "execution_count": 13
        }
      ]
    },
    {
      "cell_type": "code",
      "metadata": {
        "colab": {
          "base_uri": "https://localhost:8080/"
        },
        "id": "ExVy7POPgMMV",
        "outputId": "2b7988fb-af88-4d33-9241-307e77998d90"
      },
      "source": [
        "'cat' in spam.keys()"
      ],
      "execution_count": 14,
      "outputs": [
        {
          "output_type": "execute_result",
          "data": {
            "text/plain": [
              "True"
            ]
          },
          "metadata": {},
          "execution_count": 14
        }
      ]
    },
    {
      "cell_type": "code",
      "metadata": {
        "colab": {
          "base_uri": "https://localhost:8080/"
        },
        "id": "EFAK--4GgX7B",
        "outputId": "25283cac-ae5a-4393-85ac-3e008d6b5992"
      },
      "source": [
        "spam1 = {1:'a', 2:'cat'}\n",
        "'cat' in spam1"
      ],
      "execution_count": 16,
      "outputs": [
        {
          "output_type": "execute_result",
          "data": {
            "text/plain": [
              "False"
            ]
          },
          "metadata": {},
          "execution_count": 16
        }
      ]
    },
    {
      "cell_type": "code",
      "metadata": {
        "colab": {
          "base_uri": "https://localhost:8080/"
        },
        "id": "TzOsjHpKhB3L",
        "outputId": "148bf922-05df-41b8-b331-b93d5e01edc7"
      },
      "source": [
        "'cat' in spam1.keys()"
      ],
      "execution_count": 17,
      "outputs": [
        {
          "output_type": "execute_result",
          "data": {
            "text/plain": [
              "False"
            ]
          },
          "metadata": {},
          "execution_count": 17
        }
      ]
    },
    {
      "cell_type": "code",
      "metadata": {
        "colab": {
          "base_uri": "https://localhost:8080/"
        },
        "id": "YIOakENDhH2C",
        "outputId": "ba305f72-ccc1-47f3-e0f9-378cce45ae03"
      },
      "source": [
        "spam"
      ],
      "execution_count": 11,
      "outputs": [
        {
          "output_type": "execute_result",
          "data": {
            "text/plain": [
              "{1: 'cat', 'a': 2}"
            ]
          },
          "metadata": {},
          "execution_count": 11
        }
      ]
    },
    {
      "cell_type": "code",
      "metadata": {
        "colab": {
          "base_uri": "https://localhost:8080/"
        },
        "id": "Ln9cSGUuhSBT",
        "outputId": "bc37e2b4-71bf-4c80-a64a-07e6ffa4b821"
      },
      "source": [
        "#Answer 6\n",
        "\n",
        "'''\n",
        "'cat' in spam will give True if 'cat' is avalable in the form of keys , but 'cat' in spam.values() will give True if 'cat' is avalable in the form of value\n",
        "'''\n",
        "\n",
        "spam = {1:'a', 2:'cat'}\n",
        "\n",
        "'cat' in spam"
      ],
      "execution_count": 18,
      "outputs": [
        {
          "output_type": "execute_result",
          "data": {
            "text/plain": [
              "False"
            ]
          },
          "metadata": {},
          "execution_count": 18
        }
      ]
    },
    {
      "cell_type": "code",
      "metadata": {
        "colab": {
          "base_uri": "https://localhost:8080/"
        },
        "id": "tXGcxqKGkaZ7",
        "outputId": "9d624dc3-4ec6-4e47-d24c-b0c8b72fbbfd"
      },
      "source": [
        "'cat' in spam.values()"
      ],
      "execution_count": 19,
      "outputs": [
        {
          "output_type": "execute_result",
          "data": {
            "text/plain": [
              "True"
            ]
          },
          "metadata": {},
          "execution_count": 19
        }
      ]
    },
    {
      "cell_type": "markdown",
      "metadata": {
        "id": "7GveWt-elXyA"
      },
      "source": [
        "7. What is a shortcut for the following code? if 'color' not in spam: spam['color'] = 'black'"
      ]
    },
    {
      "cell_type": "code",
      "metadata": {
        "colab": {
          "base_uri": "https://localhost:8080/",
          "height": 35
        },
        "id": "WAscwcoukiG_",
        "outputId": "a9fd8d1d-80ce-4ea1-fdc6-ef6653b7773e"
      },
      "source": [
        "#Answer 7\n",
        "\n",
        "spam.setdefault('color','black')"
      ],
      "execution_count": 24,
      "outputs": [
        {
          "output_type": "execute_result",
          "data": {
            "application/vnd.google.colaboratory.intrinsic+json": {
              "type": "string"
            },
            "text/plain": [
              "'black'"
            ]
          },
          "metadata": {},
          "execution_count": 24
        }
      ]
    },
    {
      "cell_type": "markdown",
      "metadata": {
        "id": "N8AmA7KJxjAK"
      },
      "source": [
        "8.How do you \"pretty print\" dictionary values using which module and function?\n"
      ]
    },
    {
      "cell_type": "code",
      "metadata": {
        "id": "zB_nQl5KmRlW"
      },
      "source": [
        "we can use pprint.pprint()"
      ],
      "execution_count": null,
      "outputs": []
    }
  ]
}