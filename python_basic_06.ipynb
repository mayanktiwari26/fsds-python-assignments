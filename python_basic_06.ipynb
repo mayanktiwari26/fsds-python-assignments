{
  "nbformat": 4,
  "nbformat_minor": 0,
  "metadata": {
    "colab": {
      "name": "python_basic_06.ipynb",
      "provenance": [],
      "collapsed_sections": [],
      "authorship_tag": "ABX9TyP3nSHxXS7Ng3h2u4HM6ub1",
      "include_colab_link": true
    },
    "kernelspec": {
      "name": "python3",
      "display_name": "Python 3"
    },
    "language_info": {
      "name": "python"
    }
  },
  "cells": [
    {
      "cell_type": "markdown",
      "metadata": {
        "id": "view-in-github",
        "colab_type": "text"
      },
      "source": [
        "<a href=\"https://colab.research.google.com/github/mayanktiwari26/fsds-python-assignments/blob/main/python_basic_06.ipynb\" target=\"_parent\"><img src=\"https://colab.research.google.com/assets/colab-badge.svg\" alt=\"Open In Colab\"/></a>"
      ]
    },
    {
      "cell_type": "markdown",
      "metadata": {
        "id": "A_9rIpwd1UUa"
      },
      "source": [
        "1. What are escape characters, and how do you use them?\n",
        "2. What do the escape characters n and t stand for?\n",
        "3. What is the way to include backslash characters in a string?\n",
        "4. The string &quot;Howl&#39;s Moving Castle&quot; is a correct value. Why isn&#39;t the single quote character in the\n",
        "word Howl&#39;s not escaped a problem?\n",
        "5. How do you write a string of newlines if you don&#39;t want to use the n character?\n",
        "6. What are the values of the given expressions?\n",
        "&#39;Hello, world!&#39;[1]\n",
        "&#39;Hello, world!&#39;[0:5]\n",
        "&#39;Hello, world!&#39;[:5]\n",
        "&#39;Hello, world!&#39;[3:]\n",
        "\n",
        "7. What are the values of the following expressions?\n",
        "&#39;Hello&#39;.upper()\n",
        "&#39;Hello&#39;.upper().isupper()\n",
        "&#39;Hello&#39;.upper().lower()\n",
        "8. What are the values of the following expressions?\n",
        "&#39;Remember, remember, the fifth of July.&#39;.split()\n",
        "&#39;-&#39;.join(&#39;There can only one.&#39;.split())\n",
        "9. What are the methods for right-justifying, left-justifying, and centering a string?\n",
        "10. What is the best way to remove whitespace characters from the start or end?"
      ]
    },
    {
      "cell_type": "markdown",
      "metadata": {
        "id": "-_Td9Ntt1Yv6"
      },
      "source": [
        "What are escape characters, and how do you use them?\n",
        "\n",
        "Answer1 \n",
        "\n",
        "in python 'backslash' (\\) is a special character also known as escape character.\n",
        "\n",
        "it is used to insert characters that are illegal in sting \n",
        "\n",
        "examples\n",
        "\n",
        "\\n, \\r, \\\\, \\t, \\' etc\n",
        "\n"
      ]
    },
    {
      "cell_type": "code",
      "metadata": {
        "colab": {
          "base_uri": "https://localhost:8080/",
          "height": 131
        },
        "id": "JtwygrZ02gIo",
        "outputId": "a2d9177b-8643-45b2-9878-8bf46a799347"
      },
      "source": [
        "s = \"hey \"wassup\"\""
      ],
      "execution_count": 1,
      "outputs": [
        {
          "output_type": "error",
          "ename": "SyntaxError",
          "evalue": "ignored",
          "traceback": [
            "\u001b[0;36m  File \u001b[0;32m\"<ipython-input-1-3d6f546fc307>\"\u001b[0;36m, line \u001b[0;32m1\u001b[0m\n\u001b[0;31m    s = \"hey \"wassup\"\"\u001b[0m\n\u001b[0m                   ^\u001b[0m\n\u001b[0;31mSyntaxError\u001b[0m\u001b[0;31m:\u001b[0m invalid syntax\n"
          ]
        }
      ]
    },
    {
      "cell_type": "code",
      "metadata": {
        "id": "r2--DxoJ2oSN"
      },
      "source": [
        "# we can use escape character to fix the problem\n",
        "\n",
        "s = \"hey \\\"wassup\\\" \""
      ],
      "execution_count": 3,
      "outputs": []
    },
    {
      "cell_type": "markdown",
      "metadata": {
        "id": "QSjBBq4N3i56"
      },
      "source": [
        "2. What do the escape characters n and t stand for?\n",
        "\n",
        "Answer2\n",
        "\n",
        "\\n - newline\n",
        "\\t - Tab"
      ]
    },
    {
      "cell_type": "markdown",
      "metadata": {
        "id": "3u4IZLpz3uiD"
      },
      "source": [
        "3. What is the way to include backslash characters in a string?"
      ]
    },
    {
      "cell_type": "code",
      "metadata": {
        "colab": {
          "base_uri": "https://localhost:8080/"
        },
        "id": "04p-GOlC28Ob",
        "outputId": "e73809f9-7d8d-499c-cd13-d6af8a0db217"
      },
      "source": [
        "#Answer 3\n",
        "\n",
        "# we can use two backslashes\n",
        "\n",
        "s = \"how are you \\\\ good\"\n",
        "print(s)"
      ],
      "execution_count": 16,
      "outputs": [
        {
          "output_type": "stream",
          "name": "stdout",
          "text": [
            "how are you \\ good\n"
          ]
        }
      ]
    },
    {
      "cell_type": "markdown",
      "metadata": {
        "id": "wuoDpYK15udN"
      },
      "source": [
        "4. The string \"Howl's Moving Castle\" is a correct value. Why isn't the single quote character in the word Howl's not escaped a problem?"
      ]
    },
    {
      "cell_type": "code",
      "metadata": {
        "id": "8EtZMtS34J87"
      },
      "source": [
        "#Answer4\n",
        "\n",
        "# it is not a problem since it is enclosed within double quotes, if enclosed in single quote it will give error\n",
        "\n",
        "s= \"Howl's Moving Castle\""
      ],
      "execution_count": 19,
      "outputs": []
    },
    {
      "cell_type": "code",
      "metadata": {
        "colab": {
          "base_uri": "https://localhost:8080/",
          "height": 131
        },
        "id": "EUHe5Hi355Xq",
        "outputId": "15e4daf5-04d0-4e47-c774-ccccc3fcb0f5"
      },
      "source": [
        "s1= 'Howl's Moving Castle'"
      ],
      "execution_count": 20,
      "outputs": [
        {
          "output_type": "error",
          "ename": "SyntaxError",
          "evalue": "ignored",
          "traceback": [
            "\u001b[0;36m  File \u001b[0;32m\"<ipython-input-20-07c6d1bf1241>\"\u001b[0;36m, line \u001b[0;32m1\u001b[0m\n\u001b[0;31m    s1= 'Howl's Moving Castle'\u001b[0m\n\u001b[0m              ^\u001b[0m\n\u001b[0;31mSyntaxError\u001b[0m\u001b[0;31m:\u001b[0m invalid syntax\n"
          ]
        }
      ]
    },
    {
      "cell_type": "code",
      "metadata": {
        "colab": {
          "base_uri": "https://localhost:8080/",
          "height": 35
        },
        "id": "UnWr4I1856Oe",
        "outputId": "97261868-17e2-476d-de4a-bc7d89b5c39d"
      },
      "source": [
        "s2= 'Howl\\'s Moving Castle'\n",
        "s2"
      ],
      "execution_count": 22,
      "outputs": [
        {
          "output_type": "execute_result",
          "data": {
            "application/vnd.google.colaboratory.intrinsic+json": {
              "type": "string"
            },
            "text/plain": [
              "\"Howl's Moving Castle\""
            ]
          },
          "metadata": {},
          "execution_count": 22
        }
      ]
    },
    {
      "cell_type": "markdown",
      "metadata": {
        "id": "hSfhYYlz64Q5"
      },
      "source": [
        "5. How do you write a string of newlines if you don't want to use the n character?\n"
      ]
    },
    {
      "cell_type": "code",
      "metadata": {
        "id": "75DCR6J56wXo"
      },
      "source": [
        "#Answer5.\n",
        "\n",
        "# just by using \\n we can write a string of newlines"
      ],
      "execution_count": null,
      "outputs": []
    },
    {
      "cell_type": "markdown",
      "metadata": {
        "id": "4JFkf3Zo8zjt"
      },
      "source": [
        "6. What are the values of the given expressions? 'Hello, world!'[1] 'Hello, world!'[0:5] 'Hello, world!'[:5] 'Hello, world!'[3:]"
      ]
    },
    {
      "cell_type": "code",
      "metadata": {
        "colab": {
          "base_uri": "https://localhost:8080/"
        },
        "id": "k6Evikv5875S",
        "outputId": "10a3a5f2-1458-469c-9069-2ec844c41c9b"
      },
      "source": [
        "#Answer6.\n",
        "\n",
        "'Hello, world!'[1], 'Hello, world!'[0:5] , 'Hello, world!'[:5] ,'Hello, world!'[3:]\n",
        "\n"
      ],
      "execution_count": 24,
      "outputs": [
        {
          "output_type": "execute_result",
          "data": {
            "text/plain": [
              "('e', 'Hello', 'Hello', 'lo, world!')"
            ]
          },
          "metadata": {},
          "execution_count": 24
        }
      ]
    },
    {
      "cell_type": "markdown",
      "metadata": {
        "id": "_YCSUqg79T-x"
      },
      "source": [
        "7. What are the values of the following expressions? 'Hello'.upper() 'Hello'.upper().isupper() 'Hello'.upper().lower()"
      ]
    },
    {
      "cell_type": "code",
      "metadata": {
        "colab": {
          "base_uri": "https://localhost:8080/"
        },
        "id": "3MQd8HkW9M_Y",
        "outputId": "38024b40-ea3f-4dc7-e691-07de9a5ec650"
      },
      "source": [
        "'Hello'.upper() ,'Hello'.upper().isupper() ,'Hello'.upper().lower()"
      ],
      "execution_count": 25,
      "outputs": [
        {
          "output_type": "execute_result",
          "data": {
            "text/plain": [
              "('HELLO', True, 'hello')"
            ]
          },
          "metadata": {},
          "execution_count": 25
        }
      ]
    },
    {
      "cell_type": "markdown",
      "metadata": {
        "id": "RoGYbtph9iS6"
      },
      "source": [
        "8. What are the values of the following expressions? 'Remember, remember, the fifth of July.'.split() '-'.join('There can only one.'.split())"
      ]
    },
    {
      "cell_type": "code",
      "metadata": {
        "colab": {
          "base_uri": "https://localhost:8080/"
        },
        "id": "SCAkBjfO9feh",
        "outputId": "40aad090-48c8-4649-dfe1-9d4f0e78b90d"
      },
      "source": [
        "'Remember, remember, the fifth of July.'.split(),  '-'.join('There can only one.'.split())"
      ],
      "execution_count": 27,
      "outputs": [
        {
          "output_type": "execute_result",
          "data": {
            "text/plain": [
              "(['Remember,', 'remember,', 'the', 'fifth', 'of', 'July.'],\n",
              " 'There-can-only-one.')"
            ]
          },
          "metadata": {},
          "execution_count": 27
        }
      ]
    },
    {
      "cell_type": "markdown",
      "metadata": {
        "id": "cj8Gowfs969M"
      },
      "source": [
        "9. What are the methods for right-justifying, left-justifying, and centering a string?"
      ]
    },
    {
      "cell_type": "code",
      "metadata": {
        "colab": {
          "base_uri": "https://localhost:8080/",
          "height": 35
        },
        "id": "TSOCZEwJ9yEA",
        "outputId": "97b3ed3e-1a35-48e1-bc22-0a7b700b31a4"
      },
      "source": [
        "s= \"what is this\"\n",
        "\n",
        "s.rjust(20, 'm')  # if the width is more than length of the string then the string shifts towards right by extra spaces or any character(fillchar = 'm') "
      ],
      "execution_count": 36,
      "outputs": [
        {
          "output_type": "execute_result",
          "data": {
            "application/vnd.google.colaboratory.intrinsic+json": {
              "type": "string"
            },
            "text/plain": [
              "'mmmmmmmmwhat is this'"
            ]
          },
          "metadata": {},
          "execution_count": 36
        }
      ]
    },
    {
      "cell_type": "code",
      "metadata": {
        "colab": {
          "base_uri": "https://localhost:8080/",
          "height": 35
        },
        "id": "Jr8VMPp4-pDA",
        "outputId": "22b35ebc-f61d-490b-a2d0-5f6a20880640"
      },
      "source": [
        "s.ljust(20) # similarly shifts to left extra spaces or char given as fillcar"
      ],
      "execution_count": 37,
      "outputs": [
        {
          "output_type": "execute_result",
          "data": {
            "application/vnd.google.colaboratory.intrinsic+json": {
              "type": "string"
            },
            "text/plain": [
              "'what is this        '"
            ]
          },
          "metadata": {},
          "execution_count": 37
        }
      ]
    },
    {
      "cell_type": "code",
      "metadata": {
        "colab": {
          "base_uri": "https://localhost:8080/",
          "height": 35
        },
        "id": "lhnDTRV0_h3o",
        "outputId": "93de29c3-56cf-4798-8242-1ab8d6619c07"
      },
      "source": [
        "s.center(20,'p') # adjust the string in such a way that it comes in the center and fills the extra spaces with blank or any char = fillchar"
      ],
      "execution_count": 39,
      "outputs": [
        {
          "output_type": "execute_result",
          "data": {
            "application/vnd.google.colaboratory.intrinsic+json": {
              "type": "string"
            },
            "text/plain": [
              "'ppppwhat is thispppp'"
            ]
          },
          "metadata": {},
          "execution_count": 39
        }
      ]
    },
    {
      "cell_type": "markdown",
      "metadata": {
        "id": "R4gIysm9AQJ0"
      },
      "source": [
        "10. What is the best way to remove whitespace characters from the start or end?"
      ]
    },
    {
      "cell_type": "code",
      "metadata": {
        "colab": {
          "base_uri": "https://localhost:8080/"
        },
        "id": "go6oj9nC_4wq",
        "outputId": "ea9ae6c4-d6e2-4185-9464-3dcac386c723"
      },
      "source": [
        "#Answer10 \n",
        "\n",
        "# we can use lstrip or rstrip or strip\n",
        "\n",
        "s = \"  abcdefgh  \"\n",
        "s.strip(), s.lstrip(), s.rstrip()"
      ],
      "execution_count": 41,
      "outputs": [
        {
          "output_type": "execute_result",
          "data": {
            "text/plain": [
              "('abcdefgh', 'abcdefgh  ', '  abcdefgh')"
            ]
          },
          "metadata": {},
          "execution_count": 41
        }
      ]
    },
    {
      "cell_type": "code",
      "metadata": {
        "id": "H6kaaKBIAhRD"
      },
      "source": [
        ""
      ],
      "execution_count": null,
      "outputs": []
    }
  ]
}